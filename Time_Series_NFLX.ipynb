{
  "cells": [
    {
      "cell_type": "code",
      "source": [
        "import warnings\n",
        "warnings.filterwarnings(\"ignore\")"
      ],
      "metadata": {
        "id": "GE2LqwrnDE5V"
      },
      "execution_count": null,
      "outputs": []
    },
    {
      "cell_type": "code",
      "source": [
        "pip install scikit-plot==0.3.7"
      ],
      "metadata": {
        "id": "39yvqeNKLRyv",
        "colab": {
          "base_uri": "https://localhost:8080/"
        },
        "outputId": "5bf163e2-0f33-426c-c710-f87638a75192"
      },
      "execution_count": null,
      "outputs": [
        {
          "output_type": "stream",
          "name": "stdout",
          "text": [
            "Looking in indexes: https://pypi.org/simple, https://us-python.pkg.dev/colab-wheels/public/simple/\n",
            "Collecting scikit-plot==0.3.7\n",
            "  Downloading scikit_plot-0.3.7-py3-none-any.whl (33 kB)\n",
            "Requirement already satisfied: matplotlib>=1.4.0 in /usr/local/lib/python3.10/dist-packages (from scikit-plot==0.3.7) (3.7.1)\n",
            "Requirement already satisfied: scikit-learn>=0.18 in /usr/local/lib/python3.10/dist-packages (from scikit-plot==0.3.7) (1.2.2)\n",
            "Requirement already satisfied: scipy>=0.9 in /usr/local/lib/python3.10/dist-packages (from scikit-plot==0.3.7) (1.10.1)\n",
            "Requirement already satisfied: joblib>=0.10 in /usr/local/lib/python3.10/dist-packages (from scikit-plot==0.3.7) (1.2.0)\n",
            "Requirement already satisfied: contourpy>=1.0.1 in /usr/local/lib/python3.10/dist-packages (from matplotlib>=1.4.0->scikit-plot==0.3.7) (1.0.7)\n",
            "Requirement already satisfied: cycler>=0.10 in /usr/local/lib/python3.10/dist-packages (from matplotlib>=1.4.0->scikit-plot==0.3.7) (0.11.0)\n",
            "Requirement already satisfied: fonttools>=4.22.0 in /usr/local/lib/python3.10/dist-packages (from matplotlib>=1.4.0->scikit-plot==0.3.7) (4.39.3)\n",
            "Requirement already satisfied: kiwisolver>=1.0.1 in /usr/local/lib/python3.10/dist-packages (from matplotlib>=1.4.0->scikit-plot==0.3.7) (1.4.4)\n",
            "Requirement already satisfied: numpy>=1.20 in /usr/local/lib/python3.10/dist-packages (from matplotlib>=1.4.0->scikit-plot==0.3.7) (1.22.4)\n",
            "Requirement already satisfied: packaging>=20.0 in /usr/local/lib/python3.10/dist-packages (from matplotlib>=1.4.0->scikit-plot==0.3.7) (23.1)\n",
            "Requirement already satisfied: pillow>=6.2.0 in /usr/local/lib/python3.10/dist-packages (from matplotlib>=1.4.0->scikit-plot==0.3.7) (8.4.0)\n",
            "Requirement already satisfied: pyparsing>=2.3.1 in /usr/local/lib/python3.10/dist-packages (from matplotlib>=1.4.0->scikit-plot==0.3.7) (3.0.9)\n",
            "Requirement already satisfied: python-dateutil>=2.7 in /usr/local/lib/python3.10/dist-packages (from matplotlib>=1.4.0->scikit-plot==0.3.7) (2.8.2)\n",
            "Requirement already satisfied: threadpoolctl>=2.0.0 in /usr/local/lib/python3.10/dist-packages (from scikit-learn>=0.18->scikit-plot==0.3.7) (3.1.0)\n",
            "Requirement already satisfied: six>=1.5 in /usr/local/lib/python3.10/dist-packages (from python-dateutil>=2.7->matplotlib>=1.4.0->scikit-plot==0.3.7) (1.16.0)\n",
            "Installing collected packages: scikit-plot\n",
            "Successfully installed scikit-plot-0.3.7\n"
          ]
        }
      ]
    },
    {
      "cell_type": "code",
      "source": [
        "from statsmodels.tsa.vector_ar.var_model import VAR\n",
        "import scikitplot as skplt"
      ],
      "metadata": {
        "id": "zOTfQJb65R2S"
      },
      "execution_count": null,
      "outputs": []
    },
    {
      "cell_type": "code",
      "source": [
        "import tensorflow as tf\n",
        "from tensorflow.keras.models import Sequential\n",
        "from tensorflow.keras.layers import LSTM, Dense, Dropout\n",
        "from sklearn.preprocessing import StandardScaler"
      ],
      "metadata": {
        "id": "8mCQWXacoW13"
      },
      "execution_count": null,
      "outputs": []
    },
    {
      "cell_type": "code",
      "execution_count": null,
      "metadata": {
        "id": "60dMNFrIublV"
      },
      "outputs": [],
      "source": [
        "import numpy as np\n",
        "import matplotlib.pyplot as plt\n",
        "import pandas as pd\n",
        "from datetime import datetime\n",
        "from scipy.stats import kurtosis\n",
        "from scipy.stats import ks_2samp\n",
        "from scipy.stats import mode\n",
        "from sklearn.svm import OneClassSVM\n",
        "from sklearn.ensemble import RandomForestClassifier\n",
        "from sklearn.model_selection import train_test_split\n",
        "import math\n",
        "from sklearn.metrics import accuracy_score, mean_squared_error"
      ]
    },
    {
      "cell_type": "code",
      "execution_count": null,
      "metadata": {
        "id": "FlKczmAXublY"
      },
      "outputs": [],
      "source": [
        "class DataStreamer:\n",
        "    \n",
        "    def __init__(self, filename, block_size):\n",
        "\n",
        "        self.filename =  filename\n",
        "        self.block_size = block_size\n",
        "        self.cur_index = 0;\n",
        "        self.data = pd.read_excel(filename)\n",
        "        self.row_size = len(self.data)\n",
        "        \n",
        "    def print_meta(self):\n",
        "        \n",
        "        print('File Name\\t:\\t', self.filename)\n",
        "        print('Block Size\\t:\\t', self.block_size)\n",
        "        print('Current Index\\t:\\t', self.cur_index)\n",
        "        print('Data length\\t:\\t',self.row_size)\n",
        "        \n",
        "    def reset(self):\n",
        "        \n",
        "        self.cur_index = 0\n",
        "        \n",
        "    def get_next_block(self):\n",
        "        \n",
        "        if self.cur_index+self.block_size+1 > self.row_size:\n",
        "            block = self.data.iloc[self.cur_index:,:]\n",
        "        else: \n",
        "            block = self.data.iloc[self.cur_index:self.cur_index+self.block_size,:]\n",
        "        self.cur_index=self.cur_index+self.block_size\n",
        "        return block.values\n",
        "    \n",
        "    def has_next(self):\n",
        "        \n",
        "        if self.cur_index>=self.row_size:\n",
        "            return False\n",
        "        return True\n",
        "    \n",
        "    def get_full_stream(self):\n",
        "        \n",
        "        return self.data.values\n",
        "\n",
        "    def get_block_size(self):\n",
        "      \n",
        "        return self.block_size\n",
        "\n",
        "    def get_row_size(self):\n",
        "\n",
        "        return self.row_size"
      ]
    },
    {
      "cell_type": "code",
      "execution_count": null,
      "metadata": {
        "id": "ly5Viewtubla",
        "colab": {
          "base_uri": "https://localhost:8080/"
        },
        "outputId": "d4b56829-a834-4958-a134-d6f62a810728"
      },
      "outputs": [
        {
          "output_type": "stream",
          "name": "stdout",
          "text": [
            "File Name\t:\t NFLX.xlsx\n",
            "Block Size\t:\t 100\n",
            "Current Index\t:\t 0\n",
            "Data length\t:\t 4496\n",
            "True\n"
          ]
        }
      ],
      "source": [
        "streamer =  DataStreamer('NFLX.xlsx', 100)\n",
        "streamer.print_meta()\n",
        "\n",
        "print(streamer.has_next())"
      ]
    },
    {
      "cell_type": "code",
      "source": [
        "window_size = streamer.get_block_size()"
      ],
      "metadata": {
        "id": "SXGpBKVR5QXP"
      },
      "execution_count": null,
      "outputs": []
    },
    {
      "cell_type": "code",
      "source": [
        "def process_block(block):\n",
        "\n",
        "  #Dropping Date and Time columns respectively \n",
        "  df_block = pd.DataFrame(block)\n",
        "  df_block = df_block.drop([0], axis=1)\n",
        "\n",
        "  #Replacing 'NaN' values with 0\n",
        "  for j in df_block.columns:\n",
        "    for i in range(0, len(df_block)):\n",
        "      if df_block[j][i] == -200:\n",
        "        df_block[j][i] = 0\n",
        "        \n",
        "  #Adding columns to dictionary   \n",
        "  block_cols = {}\n",
        "  for col in df_block.columns:\n",
        "    block_cols[col] = df_block[col]\n",
        "  return block_cols"
      ],
      "metadata": {
        "id": "B_kUeLmzE53H"
      },
      "execution_count": null,
      "outputs": []
    },
    {
      "cell_type": "code",
      "source": [
        "def compare_dictionaries(dict1, dict2):\n",
        " \n",
        "    num_rejected = 0\n",
        "    num_values = 0\n",
        "    bool_dict = {}\n",
        "\n",
        "    for key1, key2 in zip(dict1, dict2):\n",
        "        stat, p_value = ks_2samp(dict1[key1], dict2[key2])\n",
        "        \n",
        "        if p_value <= 0.001:\n",
        "            num_rejected += 1\n",
        "            bool_dict[key1] = True\n",
        "        else:\n",
        "            bool_dict[key1] = False\n",
        "        num_values += 1\n",
        "    \n",
        "    pct_rejected = num_rejected / num_values\n",
        "    \n",
        "    return pct_rejected >= 0.7, bool_dict"
      ],
      "metadata": {
        "id": "ImFuvxwwbQQZ"
      },
      "execution_count": null,
      "outputs": []
    },
    {
      "cell_type": "code",
      "source": [
        "def stat_extraction(cols1, cols2):\n",
        "  stat_df = pd.DataFrame()\n",
        "\n",
        "  stat_df['Mode_1'] = mode(np.asarray(cols1))[0]\n",
        "\n",
        "  stat_df['Mean_2'] = np.mean(cols2)\n",
        "  stat_df['Median_2'] = np.median(cols2)\n",
        "  stat_df['Mode_2'] = mode(np.asarray(cols2))[0]\n",
        "\n",
        "  stat_df['Std_1'] = np.std(np.asarray(cols1))\n",
        "  stat_df['Std_2'] = np.std(np.asarray(cols2))\n",
        "\n",
        "  stat_df['Kurtosis_1'] = kurtosis(np.asarray(cols1, dtype = float))\n",
        "  stat_df['Kurtosis_2'] = kurtosis(np.asarray(cols2, dtype = float))  \n",
        "\n",
        "  stat_df['Mean_1'] = np.mean(cols1)\n",
        "  stat_df['Median_1'] = np.median(cols1)\n",
        "            \n",
        "  return stat_df"
      ],
      "metadata": {
        "id": "IIR_JGCMPMGN"
      },
      "execution_count": null,
      "outputs": []
    },
    {
      "cell_type": "code",
      "source": [
        "block1 = streamer.get_next_block()\n",
        "block2 = streamer.get_next_block()\n",
        "feature_dfs = {}\n",
        "stats_df = {}\n",
        "\n",
        "block1_cols = process_block(block1)\n",
        "\n",
        "#Creating dictionaries to hold dataframes for both entire features and extracted statistics for each feature separately  \n",
        "for key in block1_cols:\n",
        "  feature_dfs[f'feature_{key}'] = pd.DataFrame(columns = [\"Class\"])\n",
        "  stats_df[f'stats_{key}'] = pd.DataFrame(columns = [\"Class\"])\n",
        "\n",
        "while block2.shape[0] not in [streamer.get_row_size() % window_size]:\n",
        "    \n",
        "    block1_cols, block2_cols = process_block(block1), process_block(block2)\n",
        "    result, feature_result = compare_dictionaries(block1_cols, block2_cols)\n",
        "\n",
        "    for key, value in feature_result.items():\n",
        "      stat_df = stat_extraction(block1_cols[key], block2_cols[key])\n",
        "      stat_df['Class'] = value\n",
        "\n",
        "      stats_df[f'stats_{key}'] = stats_df[f'stats_{key}'].append(stat_df)\n",
        "\n",
        "    block1 = block2\n",
        "    block2 = streamer.get_next_block()"
      ],
      "metadata": {
        "id": "gyBc4q3XaTqb"
      },
      "execution_count": null,
      "outputs": []
    },
    {
      "cell_type": "code",
      "source": [
        "classifiers = {}"
      ],
      "metadata": {
        "id": "gNeOZg5Sr6JY"
      },
      "execution_count": null,
      "outputs": []
    },
    {
      "cell_type": "code",
      "source": [
        "from sklearn.metrics import classification_report"
      ],
      "metadata": {
        "id": "m0twlycJ6vzw"
      },
      "execution_count": null,
      "outputs": []
    },
    {
      "cell_type": "code",
      "source": [
        "for key, value in stats_df.items():\n",
        "  stats_df[key] = stats_df[key].fillna(0)\n",
        "  stats_df[key] = stats_df[key].reset_index(drop=True)\n",
        "  X_train, X_test, y_train, y_test = train_test_split(stats_df[key].drop('Class', axis=1), \n",
        "                                                      stats_df[key]['Class'].astype('int'), \n",
        "                                                      test_size=0.3, \n",
        "                                                      random_state=17)\n",
        "  \n",
        "  if ((y_train ==0).sum() <= 0.1*len(y_train)):\n",
        "    model = OneClassSVM(gamma='scale', nu=0.01)\n",
        "    model.fit(X_train)\n",
        "    y_pred = model.predict(X_test)\n",
        "    classifiers[key] = model\n",
        "    accuracy = accuracy_score(y_test, y_pred)\n",
        "    print(f'Accuracy: {round(accuracy, 2)}')\n",
        "    print(classification_report(y_test, y_pred))\n",
        "    skplt.metrics.plot_confusion_matrix(y_test, y_pred, normalize=False, title = 'Confusion Matrix')\n",
        "\n",
        "  else: \n",
        "    rf = RandomForestClassifier(n_estimators=100, random_state=17)\n",
        "    rf.fit(X_train, y_train)\n",
        "    y_pred = rf.predict(X_test)\n",
        "    classifiers[key] = rf\n",
        "    accuracy = accuracy_score(y_test, y_pred)\n",
        "    print(f'Accuracy: {round(accuracy, 2)}')\n",
        "    print(classification_report(y_test, y_pred))\n",
        "    skplt.metrics.plot_confusion_matrix(y_test, y_pred, normalize=False, title = 'Confusion Matrix')"
      ],
      "metadata": {
        "id": "tm_S7_3RtdpY",
        "colab": {
          "base_uri": "https://localhost:8080/",
          "height": 1000
        },
        "outputId": "4baf1f18-a868-4173-9d05-400917cd7a30"
      },
      "execution_count": null,
      "outputs": [
        {
          "output_type": "stream",
          "name": "stdout",
          "text": [
            "Accuracy: 0.69\n",
            "              precision    recall  f1-score   support\n",
            "\n",
            "          -1       0.00      0.00      0.00         0\n",
            "           1       1.00      0.69      0.82        13\n",
            "\n",
            "    accuracy                           0.69        13\n",
            "   macro avg       0.50      0.35      0.41        13\n",
            "weighted avg       1.00      0.69      0.82        13\n",
            "\n",
            "Accuracy: 0.69\n",
            "              precision    recall  f1-score   support\n",
            "\n",
            "          -1       0.00      0.00      0.00         0\n",
            "           1       1.00      0.69      0.82        13\n",
            "\n",
            "    accuracy                           0.69        13\n",
            "   macro avg       0.50      0.35      0.41        13\n",
            "weighted avg       1.00      0.69      0.82        13\n",
            "\n",
            "Accuracy: 0.77\n",
            "              precision    recall  f1-score   support\n",
            "\n",
            "          -1       0.00      0.00      0.00         0\n",
            "           1       1.00      0.77      0.87        13\n",
            "\n",
            "    accuracy                           0.77        13\n",
            "   macro avg       0.50      0.38      0.43        13\n",
            "weighted avg       1.00      0.77      0.87        13\n",
            "\n",
            "Accuracy: 0.77\n",
            "              precision    recall  f1-score   support\n",
            "\n",
            "          -1       0.00      0.00      0.00         0\n",
            "           1       1.00      0.77      0.87        13\n",
            "\n",
            "    accuracy                           0.77        13\n",
            "   macro avg       0.50      0.38      0.43        13\n",
            "weighted avg       1.00      0.77      0.87        13\n",
            "\n",
            "Accuracy: 0.77\n",
            "              precision    recall  f1-score   support\n",
            "\n",
            "          -1       0.00      0.00      0.00         0\n",
            "           1       1.00      0.77      0.87        13\n",
            "\n",
            "    accuracy                           0.77        13\n",
            "   macro avg       0.50      0.38      0.43        13\n",
            "weighted avg       1.00      0.77      0.87        13\n",
            "\n",
            "Accuracy: 0.69\n",
            "              precision    recall  f1-score   support\n",
            "\n",
            "           0       0.71      0.71      0.71         7\n",
            "           1       0.67      0.67      0.67         6\n",
            "\n",
            "    accuracy                           0.69        13\n",
            "   macro avg       0.69      0.69      0.69        13\n",
            "weighted avg       0.69      0.69      0.69        13\n",
            "\n"
          ]
        },
        {
          "output_type": "display_data",
          "data": {
            "text/plain": [
              "<Figure size 640x480 with 2 Axes>"
            ],
            "image/png": "[encoded data removed]"
          },
          "metadata": {}
        },
        {
          "output_type": "display_data",
          "data": {
            "text/plain": [
              "<Figure size 640x480 with 2 Axes>"
            ],
            "image/png": "[encoded data removed]"
          },
          "metadata": {}
        },
        {
          "output_type": "display_data",
          "data": {
            "text/plain": [
              "<Figure size 640x480 with 2 Axes>"
            ],
            "image/png": "[encoded data removed]"
          },
          "metadata": {}
        },
        {
          "output_type": "display_data",
          "data": {
            "text/plain": [
              "<Figure size 640x480 with 2 Axes>"
            ],
            "image/png": "[encoded data removed]"
          },
          "metadata": {}
        },
        {
          "output_type": "display_data",
          "data": {
            "text/plain": [
              "<Figure size 640x480 with 2 Axes>"
            ],
            "image/png": "[encoded data removed]"
          },
          "metadata": {}
        },
        {
          "output_type": "display_data",
          "data": {
            "text/plain": [
              "<Figure size 640x480 with 2 Axes>"
            ],
            "image/png": "[encoded data removed]"
          },
          "metadata": {}
        }
      ]
    },
    {
      "cell_type": "code",
      "source": [
        "rem = streamer.get_row_size() % window_size"
      ],
      "metadata": {
        "id": "o2oEPxDabVW6"
      },
      "execution_count": null,
      "outputs": []
    },
    {
      "cell_type": "code",
      "source": [
        "df = pd.read_excel('NFLX.xlsx', parse_dates=['Date'])\n",
        "df = df.drop(df.index[-rem:])"
      ],
      "metadata": {
        "id": "URXOcIMD_ElV"
      },
      "execution_count": null,
      "outputs": []
    },
    {
      "cell_type": "code",
      "source": [
        "df['Date'] = pd.to_datetime(df.Date, format = '%d/%m/%Y')"
      ],
      "metadata": {
        "id": "_y3l_2Ee4m0B"
      },
      "execution_count": null,
      "outputs": []
    },
    {
      "cell_type": "code",
      "source": [
        "data = df.drop(['Date'], axis=1)\n",
        "data.index = df.Date"
      ],
      "metadata": {
        "id": "MpGQvOjP4-7w"
      },
      "execution_count": null,
      "outputs": []
    },
    {
      "cell_type": "code",
      "source": [
        "import matplotlib.pyplot as plt"
      ],
      "metadata": {
        "id": "REs-ajEQf4lS"
      },
      "execution_count": null,
      "outputs": []
    },
    {
      "cell_type": "code",
      "source": [
        "def VAR_forecast(dataframe):\n",
        "  train_df = dataframe[:-2790]\n",
        "  test_df = dataframe[-2790:]\n",
        "\n",
        "  model = VAR(endog=train_df)\n",
        "  model_fit = model.fit()\n",
        "  \n",
        "  prediction = model_fit.forecast(model_fit.endog, steps=len(test_df))\n",
        "  pred = pd.DataFrame(index=range(0,len(prediction)), columns=[data.columns])\n",
        "  for j in range(0,len(data.columns)):\n",
        "    for i in range(0, len(prediction)):\n",
        "      pred.iloc[i][j] = prediction[i][j]\n",
        "\n",
        "\n",
        "  for i in data.columns:\n",
        "    print('MAE value for', i, 'is:', round(np.mean(np.abs(np.asarray(test_df[i]) - np.asarray(pred[i]))), 2))\n",
        "    print('MSE value for', i, 'is:', round(mean_squared_error(pred[i], test_df[i]), 2))\n",
        "    print('RMSE value for', i, 'is:', round(math.sqrt(mean_squared_error(pred[i], test_df[i])), 2))\n",
        "    print('MAPE value for', i, 'is:', round(np.mean(np.abs((np.asarray(test_df[i]) - np.asarray(pred[i])) / np.asarray(test_df[i]))), 2))\n",
        "    print('')"
      ],
      "metadata": {
        "id": "q7Py6cVFKIkS"
      },
      "execution_count": null,
      "outputs": []
    },
    {
      "cell_type": "code",
      "source": [
        "VAR_forecast(data)"
      ],
      "metadata": {
        "id": "Eb2pRdz86hqB",
        "colab": {
          "base_uri": "https://localhost:8080/"
        },
        "outputId": "530d2d6f-61e3-41ba-9cb6-10738aebddf8"
      },
      "execution_count": null,
      "outputs": [
        {
          "output_type": "stream",
          "name": "stderr",
          "text": [
            "/usr/local/lib/python3.10/dist-packages/statsmodels/tsa/base/tsa_model.py:471: ValueWarning: A date index has been provided, but it has no associated frequency information and so will be ignored when e.g. forecasting.\n",
            "  self._init_dates(dates, freq)\n"
          ]
        },
        {
          "output_type": "stream",
          "name": "stdout",
          "text": [
            "MAE value for Open is: 97.97\n",
            "MSE value for Open is: 22300.52\n",
            "RMSE value for Open is: 149.33\n",
            "MAPE value for Open is: 0.85\n",
            "\n",
            "MAE value for High is: 99.44\n",
            "MSE value for High is: 22957.18\n",
            "RMSE value for High is: 151.52\n",
            "MAPE value for High is: 0.85\n",
            "\n",
            "MAE value for Low is: 96.39\n",
            "MSE value for Low is: 21575.87\n",
            "RMSE value for Low is: 146.89\n",
            "MAPE value for Low is: 0.85\n",
            "\n",
            "MAE value for Close is: 97.97\n",
            "MSE value for Close is: 22284.39\n",
            "RMSE value for Close is: 149.28\n",
            "MAPE value for Close is: 0.85\n",
            "\n",
            "MAE value for Adj Close is: 97.97\n",
            "MSE value for Adj Close is: 22284.39\n",
            "RMSE value for Adj Close is: 149.28\n",
            "MAPE value for Adj Close is: 0.85\n",
            "\n",
            "MAE value for Volume is: 12230162.71\n",
            "MSE value for Volume is: 498976975003176.4\n",
            "RMSE value for Volume is: 22337792.53\n",
            "MAPE value for Volume is: 0.67\n",
            "\n"
          ]
        }
      ]
    },
    {
      "cell_type": "code",
      "source": [
        "test_dfs = {}"
      ],
      "metadata": {
        "id": "VfAE5F3aM7XH"
      },
      "execution_count": null,
      "outputs": []
    },
    {
      "cell_type": "code",
      "source": [
        "for column in data.columns:\n",
        "    test_dfs[f'test_{column}'] = pd.DataFrame()"
      ],
      "metadata": {
        "id": "_t4CReqCOeNS"
      },
      "execution_count": null,
      "outputs": []
    },
    {
      "cell_type": "code",
      "source": [
        "for i in range(0, len(data)-window_size):\n",
        "  current = data.iloc[i:i+window_size]\n",
        "  next = data.iloc[i+1:i+window_size+1]\n",
        "\n",
        "  for column in current.columns:\n",
        "    temp_df = stat_extraction(current[column], next[column])\n",
        "    test_dfs[f'test_{column}'] = test_dfs[f'test_{column}'].append(temp_df)"
      ],
      "metadata": {
        "id": "H8IaJc2jIXmF"
      },
      "execution_count": null,
      "outputs": []
    },
    {
      "cell_type": "code",
      "source": [
        "for key, value in test_dfs.items():\n",
        "  test_dfs[key] = test_dfs[key].fillna(0)"
      ],
      "metadata": {
        "id": "sSOhd0rysjA2"
      },
      "execution_count": null,
      "outputs": []
    },
    {
      "cell_type": "code",
      "source": [
        "test_preds = {}"
      ],
      "metadata": {
        "id": "Hfqslvj6RRBb"
      },
      "execution_count": null,
      "outputs": []
    },
    {
      "cell_type": "code",
      "source": [
        "for test_data, classifier in zip(test_dfs, classifiers):\n",
        "  test_preds[test_data] = classifiers[classifier].predict(test_dfs[test_data])\n",
        "  test_preds[test_data] = np.concatenate((np.zeros(window_size), test_preds[test_data]))"
      ],
      "metadata": {
        "id": "ElUDxYXVt9at"
      },
      "execution_count": null,
      "outputs": []
    },
    {
      "cell_type": "code",
      "source": [
        "preds = pd.DataFrame.from_dict(test_preds)"
      ],
      "metadata": {
        "id": "yeghWikqJeqk"
      },
      "execution_count": null,
      "outputs": []
    },
    {
      "cell_type": "code",
      "source": [
        "preds = preds.set_index(data.index)\n",
        "do = pd.concat([data, preds], axis=1)"
      ],
      "metadata": {
        "id": "YNExH6XS55N7"
      },
      "execution_count": null,
      "outputs": []
    },
    {
      "cell_type": "code",
      "source": [
        "VAR_forecast(do)"
      ],
      "metadata": {
        "colab": {
          "base_uri": "https://localhost:8080/"
        },
        "id": "bWwkQrc6K0XQ",
        "outputId": "5fc8d5a3-cd62-4be1-bcfa-04b0a0b465db"
      },
      "execution_count": null,
      "outputs": [
        {
          "output_type": "stream",
          "name": "stderr",
          "text": [
            "/usr/local/lib/python3.10/dist-packages/statsmodels/tsa/base/tsa_model.py:471: ValueWarning: A date index has been provided, but it has no associated frequency information and so will be ignored when e.g. forecasting.\n",
            "  self._init_dates(dates, freq)\n"
          ]
        },
        {
          "output_type": "stream",
          "name": "stdout",
          "text": [
            "MAE value for Open is: 97.81\n",
            "MSE value for Open is: 22265.57\n",
            "RMSE value for Open is: 149.22\n",
            "MAPE value for Open is: 0.84\n",
            "\n",
            "MAE value for High is: 99.27\n",
            "MSE value for High is: 22921.04\n",
            "RMSE value for High is: 151.4\n",
            "MAPE value for High is: 0.84\n",
            "\n",
            "MAE value for Low is: 96.23\n",
            "MSE value for Low is: 21542.07\n",
            "RMSE value for Low is: 146.77\n",
            "MAPE value for Low is: 0.84\n",
            "\n",
            "MAE value for Close is: 97.81\n",
            "MSE value for Close is: 22249.39\n",
            "RMSE value for Close is: 149.16\n",
            "MAPE value for Close is: 0.84\n",
            "\n",
            "MAE value for Adj Close is: 97.81\n",
            "MSE value for Adj Close is: 22249.39\n",
            "RMSE value for Adj Close is: 149.16\n",
            "MAPE value for Adj Close is: 0.84\n",
            "\n",
            "MAE value for Volume is: 12220326.62\n",
            "MSE value for Volume is: 492985290180333.25\n",
            "RMSE value for Volume is: 22203272.06\n",
            "MAPE value for Volume is: 0.68\n",
            "\n"
          ]
        }
      ]
    },
    {
      "cell_type": "code",
      "source": [
        "majority_pred = pd.DataFrame()"
      ],
      "metadata": {
        "id": "WyMy-AdGm3t3"
      },
      "execution_count": null,
      "outputs": []
    },
    {
      "cell_type": "code",
      "source": [
        "majority_pred['maj'] = preds.mode(axis=1)[0]"
      ],
      "metadata": {
        "id": "FExx0URtyiDi"
      },
      "execution_count": null,
      "outputs": []
    },
    {
      "cell_type": "code",
      "source": [
        "da = pd.concat([data, majority_pred], axis=1)"
      ],
      "metadata": {
        "id": "u_X7NiSLypeY"
      },
      "execution_count": null,
      "outputs": []
    },
    {
      "cell_type": "code",
      "source": [
        "VAR_forecast(da)"
      ],
      "metadata": {
        "colab": {
          "base_uri": "https://localhost:8080/"
        },
        "id": "KWBxKO7Lzu-I",
        "outputId": "d6d97ebe-8189-45a0-f230-7ca0e295d6f1"
      },
      "execution_count": null,
      "outputs": [
        {
          "output_type": "stream",
          "name": "stderr",
          "text": [
            "/usr/local/lib/python3.10/dist-packages/statsmodels/tsa/base/tsa_model.py:471: ValueWarning: A date index has been provided, but it has no associated frequency information and so will be ignored when e.g. forecasting.\n",
            "  self._init_dates(dates, freq)\n"
          ]
        },
        {
          "output_type": "stream",
          "name": "stdout",
          "text": [
            "MAE value for Open is: 97.88\n",
            "MSE value for Open is: 22279.83\n",
            "RMSE value for Open is: 149.26\n",
            "MAPE value for Open is: 0.85\n",
            "\n",
            "MAE value for High is: 99.34\n",
            "MSE value for High is: 22935.79\n",
            "RMSE value for High is: 151.45\n",
            "MAPE value for High is: 0.85\n",
            "\n",
            "MAE value for Low is: 96.3\n",
            "MSE value for Low is: 21555.83\n",
            "RMSE value for Low is: 146.82\n",
            "MAPE value for Low is: 0.85\n",
            "\n",
            "MAE value for Close is: 97.88\n",
            "MSE value for Close is: 22263.66\n",
            "RMSE value for Close is: 149.21\n",
            "MAPE value for Close is: 0.85\n",
            "\n",
            "MAE value for Adj Close is: 97.88\n",
            "MSE value for Adj Close is: 22263.66\n",
            "RMSE value for Adj Close is: 149.21\n",
            "MAPE value for Adj Close is: 0.85\n",
            "\n",
            "MAE value for Volume is: 12219294.82\n",
            "MSE value for Volume is: 493812730090611.44\n",
            "RMSE value for Volume is: 22221897.54\n",
            "MAPE value for Volume is: 0.68\n",
            "\n"
          ]
        }
      ]
    },
    {
      "cell_type": "code",
      "source": [
        "def create_sequences(data, n_steps):\n",
        "    X, y = [], []\n",
        "    for i in range(len(data) - n_steps):\n",
        "        X.append(data[i:i + n_steps])\n",
        "        y.append(data[i + n_steps])\n",
        "    return np.array(X), np.array(y)"
      ],
      "metadata": {
        "id": "r2GmVgduoQhh"
      },
      "execution_count": null,
      "outputs": []
    },
    {
      "cell_type": "code",
      "source": [
        "def LSTM_forecast(LSTM_data):\n",
        "  scaler = StandardScaler()\n",
        "  scaled_data = scaler.fit_transform(LSTM_data)\n",
        "\n",
        "  train_size = int(len(scaled_data) * 0.8)\n",
        "  train_data = scaled_data[:train_size]\n",
        "  test_data = scaled_data[train_size:]\n",
        "\n",
        "  n_steps = 10\n",
        "\n",
        "  X_train, y_train = create_sequences(train_data, n_steps)\n",
        "  X_test, y_test = create_sequences(test_data, n_steps)\n",
        "\n",
        "\n",
        "  n_features = LSTM_data.shape[1]  \n",
        "  model = Sequential()\n",
        "  model.add(LSTM(units=50, activation='relu', input_shape=(n_steps, n_features)))\n",
        "  model.add(Dense(n_features)) \n",
        "  model.compile(optimizer='adam', loss='mse')\n",
        "\n",
        "  model.fit(X_train, y_train, epochs=10, batch_size=16)\n",
        "\n",
        "  y_pred = model.predict(X_test)\n",
        "\n",
        "  predicted_data = scaler.inverse_transform(y_pred)\n",
        "\n",
        "  predicted_df = pd.DataFrame(predicted_data, columns=LSTM_data.columns)\n",
        "\n",
        "  y_test = scaler.inverse_transform(y_test)\n",
        "\n",
        "  y_test_df =  pd.DataFrame(y_test, columns=LSTM_data.columns)\n",
        "\n",
        "\n",
        "  print('')\n",
        "  print('')\n",
        "  for i in data.columns:\n",
        "    print('MAE value for', i, 'is:', round(np.mean(np.abs(np.asarray(y_test_df[i]) - np.asarray(predicted_df[i]))), 2))\n",
        "    print('MSE value for', i, 'is:', round(mean_squared_error(predicted_df[i], y_test_df[i]), 2))\n",
        "    print('RMSE value for', i, 'is:', round(math.sqrt(mean_squared_error(predicted_df[i], y_test_df[i])), 2))\n",
        "    print('MAPE value for', i, 'is:', round(np.mean(np.abs((np.asarray(y_test_df[i]) - np.asarray(predicted_df[i])) / np.asarray(y_test_df[i]))), 2))\n",
        "    print('')"
      ],
      "metadata": {
        "id": "h83tyFePoR_n"
      },
      "execution_count": null,
      "outputs": []
    },
    {
      "cell_type": "code",
      "source": [
        "LSTM_forecast(data)"
      ],
      "metadata": {
        "colab": {
          "base_uri": "https://localhost:8080/"
        },
        "id": "4k45VgCip8Sy",
        "outputId": "45252d5a-7e14-4162-fdaf-d76a4027564c"
      },
      "execution_count": null,
      "outputs": [
        {
          "output_type": "stream",
          "name": "stdout",
          "text": [
            "Epoch 1/10\n",
            "220/220 [==============================] - 4s 10ms/step - loss: 0.1415\n",
            "Epoch 2/10\n",
            "220/220 [==============================] - 1s 6ms/step - loss: 0.1080\n",
            "Epoch 3/10\n",
            "220/220 [==============================] - 2s 7ms/step - loss: 0.1042\n",
            "Epoch 4/10\n",
            "220/220 [==============================] - 1s 6ms/step - loss: 0.1019\n",
            "Epoch 5/10\n",
            "220/220 [==============================] - 1s 6ms/step - loss: 0.1021\n",
            "Epoch 6/10\n",
            "220/220 [==============================] - 1s 6ms/step - loss: 0.1017\n",
            "Epoch 7/10\n",
            "220/220 [==============================] - 1s 6ms/step - loss: 0.1003\n",
            "Epoch 8/10\n",
            "220/220 [==============================] - 2s 7ms/step - loss: 0.1009\n",
            "Epoch 9/10\n",
            "220/220 [==============================] - 2s 10ms/step - loss: 0.0995\n",
            "Epoch 10/10\n",
            "220/220 [==============================] - 2s 7ms/step - loss: 0.0999\n",
            "28/28 [==============================] - 0s 3ms/step\n",
            "\n",
            "\n",
            "MAE value for Open is: 40.22\n",
            "MSE value for Open is: 3375.72\n",
            "RMSE value for Open is: 58.1\n",
            "MAPE value for Open is: 0.12\n",
            "\n",
            "MAE value for High is: 56.64\n",
            "MSE value for High is: 5747.42\n",
            "RMSE value for High is: 75.81\n",
            "MAPE value for High is: 0.18\n",
            "\n",
            "MAE value for Low is: 42.36\n",
            "MSE value for Low is: 3761.94\n",
            "RMSE value for Low is: 61.33\n",
            "MAPE value for Low is: 0.13\n",
            "\n",
            "MAE value for Close is: 38.46\n",
            "MSE value for Close is: 2528.98\n",
            "RMSE value for Close is: 50.29\n",
            "MAPE value for Close is: 0.13\n",
            "\n",
            "MAE value for Adj Close is: 93.27\n",
            "MSE value for Adj Close is: 15548.52\n",
            "RMSE value for Adj Close is: 124.69\n",
            "MAPE value for Adj Close is: 0.3\n",
            "\n",
            "MAE value for Volume is: 21967673.63\n",
            "MSE value for Volume is: 626313053656373.9\n",
            "RMSE value for Volume is: 25026247.29\n",
            "MAPE value for Volume is: 3.18\n",
            "\n"
          ]
        }
      ]
    },
    {
      "cell_type": "code",
      "source": [
        "LSTM_forecast(do)"
      ],
      "metadata": {
        "colab": {
          "base_uri": "https://localhost:8080/"
        },
        "id": "yG3Bo6AjoTJY",
        "outputId": "b3aca282-0987-4519-a429-07c69f535c41"
      },
      "execution_count": null,
      "outputs": [
        {
          "output_type": "stream",
          "name": "stdout",
          "text": [
            "Epoch 1/10\n",
            "220/220 [==============================] - 3s 6ms/step - loss: 0.1291\n",
            "Epoch 2/10\n",
            "220/220 [==============================] - 2s 8ms/step - loss: 0.0718\n",
            "Epoch 3/10\n",
            "220/220 [==============================] - 2s 10ms/step - loss: 0.0663\n",
            "Epoch 4/10\n",
            "220/220 [==============================] - 1s 7ms/step - loss: 0.0638\n",
            "Epoch 5/10\n",
            "220/220 [==============================] - 1s 6ms/step - loss: 0.0620\n",
            "Epoch 6/10\n",
            "220/220 [==============================] - 1s 7ms/step - loss: 0.0611\n",
            "Epoch 7/10\n",
            "220/220 [==============================] - 1s 7ms/step - loss: 0.0606\n",
            "Epoch 8/10\n",
            "220/220 [==============================] - 1s 7ms/step - loss: 0.0599\n",
            "Epoch 9/10\n",
            "220/220 [==============================] - 1s 7ms/step - loss: 0.0593\n",
            "Epoch 10/10\n",
            "220/220 [==============================] - 2s 7ms/step - loss: 0.0589\n",
            "28/28 [==============================] - 0s 3ms/step\n",
            "\n",
            "\n",
            "MAE value for Open is: 103.92\n",
            "MSE value for Open is: 26255.24\n",
            "RMSE value for Open is: 162.03\n",
            "MAPE value for Open is: 0.34\n",
            "\n",
            "MAE value for High is: 36.15\n",
            "MSE value for High is: 2575.16\n",
            "RMSE value for High is: 50.75\n",
            "MAPE value for High is: 0.14\n",
            "\n",
            "MAE value for Low is: 64.5\n",
            "MSE value for Low is: 7415.2\n",
            "RMSE value for Low is: 86.11\n",
            "MAPE value for Low is: 0.25\n",
            "\n",
            "MAE value for Close is: 70.14\n",
            "MSE value for Close is: 14927.33\n",
            "RMSE value for Close is: 122.18\n",
            "MAPE value for Close is: 0.22\n",
            "\n",
            "MAE value for Adj Close is: 69.96\n",
            "MSE value for Adj Close is: 10550.01\n",
            "RMSE value for Adj Close is: 102.71\n",
            "MAPE value for Adj Close is: 0.24\n",
            "\n",
            "MAE value for Volume is: 8016639.73\n",
            "MSE value for Volume is: 142787256934606.9\n",
            "RMSE value for Volume is: 11949362.2\n",
            "MAPE value for Volume is: 1.07\n",
            "\n"
          ]
        }
      ]
    },
    {
      "cell_type": "code",
      "source": [
        "LSTM_forecast(da)"
      ],
      "metadata": {
        "colab": {
          "base_uri": "https://localhost:8080/"
        },
        "id": "8pUGX6IMoUUy",
        "outputId": "2b30fe83-669b-4d49-d7c9-0e1dff80dec0"
      },
      "execution_count": null,
      "outputs": [
        {
          "output_type": "stream",
          "name": "stdout",
          "text": [
            "Epoch 1/10\n",
            "220/220 [==============================] - 3s 6ms/step - loss: 0.1405\n",
            "Epoch 2/10\n",
            "220/220 [==============================] - 1s 6ms/step - loss: 0.1015\n",
            "Epoch 3/10\n",
            "220/220 [==============================] - 1s 6ms/step - loss: 0.0955\n",
            "Epoch 4/10\n",
            "220/220 [==============================] - 2s 9ms/step - loss: 0.0946\n",
            "Epoch 5/10\n",
            "220/220 [==============================] - 2s 9ms/step - loss: 0.0916\n",
            "Epoch 6/10\n",
            "220/220 [==============================] - 1s 6ms/step - loss: 0.0908\n",
            "Epoch 7/10\n",
            "220/220 [==============================] - 1s 7ms/step - loss: 0.0919\n",
            "Epoch 8/10\n",
            "220/220 [==============================] - 1s 7ms/step - loss: 0.0902\n",
            "Epoch 9/10\n",
            "220/220 [==============================] - 1s 7ms/step - loss: 0.0896\n",
            "Epoch 10/10\n",
            "220/220 [==============================] - 1s 7ms/step - loss: 0.0884\n",
            "28/28 [==============================] - 0s 3ms/step\n",
            "\n",
            "\n",
            "MAE value for Open is: 14.55\n",
            "MSE value for Open is: 439.15\n",
            "RMSE value for Open is: 20.96\n",
            "MAPE value for Open is: 0.06\n",
            "\n",
            "MAE value for High is: 35.19\n",
            "MSE value for High is: 2186.55\n",
            "RMSE value for High is: 46.76\n",
            "MAPE value for High is: 0.12\n",
            "\n",
            "MAE value for Low is: 29.27\n",
            "MSE value for Low is: 1346.66\n",
            "RMSE value for Low is: 36.7\n",
            "MAPE value for Low is: 0.11\n",
            "\n",
            "MAE value for Close is: 34.95\n",
            "MSE value for Close is: 1887.04\n",
            "RMSE value for Close is: 43.44\n",
            "MAPE value for Close is: 0.13\n",
            "\n",
            "MAE value for Adj Close is: 33.21\n",
            "MSE value for Adj Close is: 2025.23\n",
            "RMSE value for Adj Close is: 45.0\n",
            "MAPE value for Adj Close is: 0.12\n",
            "\n",
            "MAE value for Volume is: 4105227.9\n",
            "MSE value for Volume is: 39698379369395.07\n",
            "RMSE value for Volume is: 6300664.99\n",
            "MAPE value for Volume is: 0.44\n",
            "\n"
          ]
        }
      ]
    }
  ],
  "metadata": {
    "kernelspec": {
      "display_name": "Python 3",
      "language": "python",
      "name": "python3"
    },
    "language_info": {
      "codemirror_mode": {
        "name": "ipython",
        "version": 3
      },
      "file_extension": ".py",
      "mimetype": "text/x-python",
      "name": "python",
      "nbconvert_exporter": "python",
      "pygments_lexer": "ipython3",
      "version": "3.8.5"
    },
    "colab": {
      "provenance": []
    },
    "gpuClass": "standard"
  },
  "nbformat": 4,
  "nbformat_minor": 0
}