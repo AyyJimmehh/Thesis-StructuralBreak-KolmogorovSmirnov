{
  "cells": [
    {
      "cell_type": "code",
      "source": [
        "import warnings\n",
        "warnings.filterwarnings(\"ignore\")"
      ],
      "metadata": {
        "id": "GE2LqwrnDE5V"
      },
      "execution_count": null,
      "outputs": []
    },
    {
      "cell_type": "code",
      "source": [
        "pip install scikit-plot==0.3.7"
      ],
      "metadata": {
        "colab": {
          "base_uri": "https://localhost:8080/"
        },
        "id": "X58f5dyHLVUW",
        "outputId": "9144f0b7-186d-4581-df4f-85d2580f49f9"
      },
      "execution_count": null,
      "outputs": [
        {
          "output_type": "stream",
          "name": "stdout",
          "text": [
            "Looking in indexes: https://pypi.org/simple, https://us-python.pkg.dev/colab-wheels/public/simple/\n",
            "Collecting scikit-plot==0.3.7\n",
            "  Downloading scikit_plot-0.3.7-py3-none-any.whl (33 kB)\n",
            "Requirement already satisfied: matplotlib>=1.4.0 in /usr/local/lib/python3.10/dist-packages (from scikit-plot==0.3.7) (3.7.1)\n",
            "Requirement already satisfied: scikit-learn>=0.18 in /usr/local/lib/python3.10/dist-packages (from scikit-plot==0.3.7) (1.2.2)\n",
            "Requirement already satisfied: scipy>=0.9 in /usr/local/lib/python3.10/dist-packages (from scikit-plot==0.3.7) (1.10.1)\n",
            "Requirement already satisfied: joblib>=0.10 in /usr/local/lib/python3.10/dist-packages (from scikit-plot==0.3.7) (1.2.0)\n",
            "Requirement already satisfied: contourpy>=1.0.1 in /usr/local/lib/python3.10/dist-packages (from matplotlib>=1.4.0->scikit-plot==0.3.7) (1.0.7)\n",
            "Requirement already satisfied: cycler>=0.10 in /usr/local/lib/python3.10/dist-packages (from matplotlib>=1.4.0->scikit-plot==0.3.7) (0.11.0)\n",
            "Requirement already satisfied: fonttools>=4.22.0 in /usr/local/lib/python3.10/dist-packages (from matplotlib>=1.4.0->scikit-plot==0.3.7) (4.39.3)\n",
            "Requirement already satisfied: kiwisolver>=1.0.1 in /usr/local/lib/python3.10/dist-packages (from matplotlib>=1.4.0->scikit-plot==0.3.7) (1.4.4)\n",
            "Requirement already satisfied: numpy>=1.20 in /usr/local/lib/python3.10/dist-packages (from matplotlib>=1.4.0->scikit-plot==0.3.7) (1.22.4)\n",
            "Requirement already satisfied: packaging>=20.0 in /usr/local/lib/python3.10/dist-packages (from matplotlib>=1.4.0->scikit-plot==0.3.7) (23.1)\n",
            "Requirement already satisfied: pillow>=6.2.0 in /usr/local/lib/python3.10/dist-packages (from matplotlib>=1.4.0->scikit-plot==0.3.7) (8.4.0)\n",
            "Requirement already satisfied: pyparsing>=2.3.1 in /usr/local/lib/python3.10/dist-packages (from matplotlib>=1.4.0->scikit-plot==0.3.7) (3.0.9)\n",
            "Requirement already satisfied: python-dateutil>=2.7 in /usr/local/lib/python3.10/dist-packages (from matplotlib>=1.4.0->scikit-plot==0.3.7) (2.8.2)\n",
            "Requirement already satisfied: threadpoolctl>=2.0.0 in /usr/local/lib/python3.10/dist-packages (from scikit-learn>=0.18->scikit-plot==0.3.7) (3.1.0)\n",
            "Requirement already satisfied: six>=1.5 in /usr/local/lib/python3.10/dist-packages (from python-dateutil>=2.7->matplotlib>=1.4.0->scikit-plot==0.3.7) (1.16.0)\n",
            "Installing collected packages: scikit-plot\n",
            "Successfully installed scikit-plot-0.3.7\n"
          ]
        }
      ]
    },
    {
      "cell_type": "code",
      "source": [
        "from statsmodels.tsa.vector_ar.var_model import VAR\n",
        "import scikitplot as skplt"
      ],
      "metadata": {
        "id": "zOTfQJb65R2S"
      },
      "execution_count": null,
      "outputs": []
    },
    {
      "cell_type": "code",
      "source": [
        "import tensorflow as tf\n",
        "from tensorflow.keras.models import Sequential\n",
        "from tensorflow.keras.layers import LSTM, Dense, Dropout\n",
        "from sklearn.preprocessing import StandardScaler"
      ],
      "metadata": {
        "id": "LYj4qsZHwocn"
      },
      "execution_count": null,
      "outputs": []
    },
    {
      "cell_type": "code",
      "execution_count": null,
      "metadata": {
        "id": "60dMNFrIublV"
      },
      "outputs": [],
      "source": [
        "import numpy as np\n",
        "import matplotlib.pyplot as plt\n",
        "import pandas as pd\n",
        "from datetime import datetime\n",
        "from scipy.stats import kurtosis\n",
        "from scipy.stats import ks_2samp\n",
        "from scipy.stats import mode\n",
        "from sklearn.svm import OneClassSVM\n",
        "from sklearn.ensemble import RandomForestClassifier\n",
        "from sklearn.model_selection import train_test_split\n",
        "import math\n",
        "from sklearn.metrics import accuracy_score, mean_squared_error"
      ]
    },
    {
      "cell_type": "code",
      "execution_count": null,
      "metadata": {
        "id": "FlKczmAXublY"
      },
      "outputs": [],
      "source": [
        "class DataStreamer:\n",
        "    \n",
        "    def __init__(self, filename, block_size):\n",
        "\n",
        "        self.filename =  filename\n",
        "        self.block_size = block_size\n",
        "        self.cur_index = 0;\n",
        "        self.data = pd.read_excel(filename)\n",
        "        self.row_size = len(self.data)\n",
        "        \n",
        "    def print_meta(self):\n",
        "        \n",
        "        print('File Name\\t:\\t', self.filename)\n",
        "        print('Block Size\\t:\\t', self.block_size)\n",
        "        print('Current Index\\t:\\t', self.cur_index)\n",
        "        print('Data length\\t:\\t',self.row_size)\n",
        "        \n",
        "    def reset(self):\n",
        "        \n",
        "        self.cur_index = 0\n",
        "        \n",
        "    def get_next_block(self):\n",
        "        \n",
        "        if self.cur_index+self.block_size+1 > self.row_size:\n",
        "            block = self.data.iloc[self.cur_index:,:]\n",
        "        else: \n",
        "            block = self.data.iloc[self.cur_index:self.cur_index+self.block_size,:]\n",
        "        self.cur_index=self.cur_index+self.block_size\n",
        "        return block.values\n",
        "    \n",
        "    def has_next(self):\n",
        "        \n",
        "        if self.cur_index>=self.row_size:\n",
        "            return False\n",
        "        return True\n",
        "    \n",
        "    def get_full_stream(self):\n",
        "        \n",
        "        return self.data.values\n",
        "\n",
        "    def get_block_size(self):\n",
        "      \n",
        "        return self.block_size\n",
        "\n",
        "    def get_row_size(self):\n",
        "\n",
        "        return self.row_size"
      ]
    },
    {
      "cell_type": "code",
      "execution_count": null,
      "metadata": {
        "id": "ly5Viewtubla",
        "colab": {
          "base_uri": "https://localhost:8080/"
        },
        "outputId": "969b58e6-d176-4d89-940a-45b1c9fbe6d1"
      },
      "outputs": [
        {
          "output_type": "stream",
          "name": "stdout",
          "text": [
            "File Name\t:\t AMZN.xlsx\n",
            "Block Size\t:\t 100\n",
            "Current Index\t:\t 0\n",
            "Data length\t:\t 5758\n",
            "True\n"
          ]
        }
      ],
      "source": [
        "streamer =  DataStreamer('AMZN.xlsx', 100)\n",
        "streamer.print_meta()\n",
        "\n",
        "print(streamer.has_next())"
      ]
    },
    {
      "cell_type": "code",
      "source": [
        "window_size = streamer.get_block_size()"
      ],
      "metadata": {
        "id": "SXGpBKVR5QXP"
      },
      "execution_count": null,
      "outputs": []
    },
    {
      "cell_type": "code",
      "source": [
        "def process_block(block):\n",
        "\n",
        "  #Dropping Date and Time columns respectively \n",
        "  df_block = pd.DataFrame(block)\n",
        "  df_block = df_block.drop([0], axis=1)\n",
        "\n",
        "  #Replacing 'NaN' values with 0\n",
        "  for j in df_block.columns:\n",
        "    for i in range(0, len(df_block)):\n",
        "      if df_block[j][i] == -200:\n",
        "        df_block[j][i] = 0\n",
        "        \n",
        "  #Adding columns to dictionary   \n",
        "  block_cols = {}\n",
        "  for col in df_block.columns:\n",
        "    block_cols[col] = df_block[col]\n",
        "  return block_cols"
      ],
      "metadata": {
        "id": "B_kUeLmzE53H"
      },
      "execution_count": null,
      "outputs": []
    },
    {
      "cell_type": "code",
      "source": [
        "def compare_dictionaries(dict1, dict2):\n",
        " \n",
        "    num_rejected = 0\n",
        "    num_values = 0\n",
        "    bool_dict = {}\n",
        "\n",
        "    for key1, key2 in zip(dict1, dict2):\n",
        "        stat, p_value = ks_2samp(dict1[key1], dict2[key2])\n",
        "        \n",
        "        if p_value <= 0.01:\n",
        "            num_rejected += 1\n",
        "            bool_dict[key1] = True\n",
        "        else:\n",
        "            bool_dict[key1] = False\n",
        "        num_values += 1\n",
        "    \n",
        "    pct_rejected = num_rejected / num_values\n",
        "    \n",
        "    return pct_rejected >= 0.7, bool_dict"
      ],
      "metadata": {
        "id": "ImFuvxwwbQQZ"
      },
      "execution_count": null,
      "outputs": []
    },
    {
      "cell_type": "code",
      "source": [
        "def stat_extraction(cols1, cols2):\n",
        "  stat_df = pd.DataFrame()\n",
        "\n",
        "  stat_df['Mode_1'] = mode(np.asarray(cols1))[0]\n",
        "\n",
        "  stat_df['Mean_2'] = np.mean(cols2)\n",
        "  stat_df['Median_2'] = np.median(cols2)\n",
        "  stat_df['Mode_2'] = mode(np.asarray(cols2))[0]\n",
        "\n",
        "  stat_df['Std_1'] = np.std(np.asarray(cols1))\n",
        "  stat_df['Std_2'] = np.std(np.asarray(cols2))\n",
        "\n",
        "  stat_df['Kurtosis_1'] = kurtosis(np.asarray(cols1, dtype = float))\n",
        "  stat_df['Kurtosis_2'] = kurtosis(np.asarray(cols2, dtype = float))  \n",
        "\n",
        "  stat_df['Mean_1'] = np.mean(cols1)\n",
        "  stat_df['Median_1'] = np.median(cols1)\n",
        "            \n",
        "  return stat_df"
      ],
      "metadata": {
        "id": "IIR_JGCMPMGN"
      },
      "execution_count": null,
      "outputs": []
    },
    {
      "cell_type": "code",
      "source": [
        "block1 = streamer.get_next_block()\n",
        "block2 = streamer.get_next_block()\n",
        "feature_dfs = {}\n",
        "stats_df = {}\n",
        "\n",
        "block1_cols = process_block(block1)\n",
        "\n",
        "#Creating dictionaries to hold dataframes for both entire features and extracted statistics for each feature separately  \n",
        "for key in block1_cols:\n",
        "  feature_dfs[f'feature_{key}'] = pd.DataFrame(columns = [\"Class\"])\n",
        "  stats_df[f'stats_{key}'] = pd.DataFrame(columns = [\"Class\"])\n",
        "\n",
        "while block2.shape[0] not in [streamer.get_row_size() % window_size]:\n",
        "    \n",
        "    block1_cols, block2_cols = process_block(block1), process_block(block2)\n",
        "    result, feature_result = compare_dictionaries(block1_cols, block2_cols)\n",
        "\n",
        "    for key, value in feature_result.items():\n",
        "      stat_df = stat_extraction(block1_cols[key], block2_cols[key])\n",
        "      stat_df['Class'] = value\n",
        "\n",
        "      stats_df[f'stats_{key}'] = stats_df[f'stats_{key}'].append(stat_df)\n",
        "\n",
        "    block1 = block2\n",
        "    block2 = streamer.get_next_block()"
      ],
      "metadata": {
        "id": "gyBc4q3XaTqb"
      },
      "execution_count": null,
      "outputs": []
    },
    {
      "cell_type": "code",
      "source": [
        "classifiers = {}"
      ],
      "metadata": {
        "id": "gNeOZg5Sr6JY"
      },
      "execution_count": null,
      "outputs": []
    },
    {
      "cell_type": "code",
      "source": [
        "for key, value in stats_df.items():\n",
        "  stats_df[key] = stats_df[key].fillna(0)\n",
        "  stats_df[key] = stats_df[key].reset_index(drop=True)\n",
        "  X_train, X_test, y_train, y_test = train_test_split(stats_df[key].drop('Class', axis=1), \n",
        "                                                      stats_df[key]['Class'].astype('int'), \n",
        "                                                      test_size=0.3, \n",
        "                                                      random_state=17)\n",
        "  \n",
        "  if ((y_train ==0).sum() <= 0.05*len(y_train)):\n",
        "    model = OneClassSVM(gamma='scale', nu=0.01)\n",
        "    model.fit(X_train)\n",
        "    y_pred = model.predict(X_test)\n",
        "    classifiers[key] = model\n",
        "    accuracy = accuracy_score(y_test, y_pred)\n",
        "    print(f'Accuracy: {round(accuracy, 2)}')\n",
        "    skplt.metrics.plot_confusion_matrix(y_test, y_pred, normalize=False, title = 'Confusion Matrix')\n",
        "\n",
        "  else: \n",
        "    rf = RandomForestClassifier(n_estimators=100, random_state=17)\n",
        "    rf.fit(X_train, y_train)\n",
        "    y_pred = rf.predict(X_test)\n",
        "    y_probas = rf.predict_proba(X_test)\n",
        "    classifiers[key] = rf\n",
        "    accuracy = accuracy_score(y_test, y_pred)\n",
        "    print(f'Accuracy: {round(accuracy, 2)}')\n",
        "    skplt.metrics.plot_confusion_matrix(y_test, y_pred, normalize=False, title = 'Confusion Matrix')"
      ],
      "metadata": {
        "id": "tm_S7_3RtdpY",
        "colab": {
          "base_uri": "https://localhost:8080/",
          "height": 1000
        },
        "outputId": "1c07adb7-fb67-4d8a-afe4-06e0327be74a"
      },
      "execution_count": null,
      "outputs": [
        {
          "output_type": "stream",
          "name": "stdout",
          "text": [
            "Accuracy: 0.88\n",
            "Accuracy: 1.0\n",
            "Accuracy: 0.88\n",
            "Accuracy: 0.88\n",
            "Accuracy: 0.88\n",
            "Accuracy: 0.47\n"
          ]
        },
        {
          "output_type": "display_data",
          "data": {
            "text/plain": [
              "<Figure size 640x480 with 2 Axes>"
            ],
            "image/png": "[encoded data removed]"
          },
          "metadata": {}
        },
        {
          "output_type": "display_data",
          "data": {
            "text/plain": [
              "<Figure size 640x480 with 2 Axes>"
            ],
            "image/png": "[encoded data removed]"
          },
          "metadata": {}
        },
        {
          "output_type": "display_data",
          "data": {
            "text/plain": [
              "<Figure size 640x480 with 2 Axes>"
            ],
            "image/png": "[encoded data removed]"
          },
          "metadata": {}
        },
        {
          "output_type": "display_data",
          "data": {
            "text/plain": [
              "<Figure size 640x480 with 2 Axes>"
            ],
            "image/png": "[encoded data removed]"
          },
          "metadata": {}
        },
        {
          "output_type": "display_data",
          "data": {
            "text/plain": [
              "<Figure size 640x480 with 2 Axes>"
            ],
            "image/png": "[encoded data removed]"
          },
          "metadata": {}
        },
        {
          "output_type": "display_data",
          "data": {
            "text/plain": [
              "<Figure size 640x480 with 2 Axes>"
            ],
            "image/png": "[encoded data removed]"
          },
          "metadata": {}
        }
      ]
    },
    {
      "cell_type": "code",
      "source": [
        "rem = streamer.get_row_size() % window_size"
      ],
      "metadata": {
        "id": "o2oEPxDabVW6"
      },
      "execution_count": null,
      "outputs": []
    },
    {
      "cell_type": "code",
      "source": [
        "df = pd.read_excel('AMZN.xlsx', parse_dates=['Date'])\n",
        "df = df.drop(df.index[-rem:])"
      ],
      "metadata": {
        "id": "URXOcIMD_ElV"
      },
      "execution_count": null,
      "outputs": []
    },
    {
      "cell_type": "code",
      "source": [
        "df['Date'] = pd.to_datetime(df.Date, format = '%d/%m/%Y')"
      ],
      "metadata": {
        "id": "_y3l_2Ee4m0B"
      },
      "execution_count": null,
      "outputs": []
    },
    {
      "cell_type": "code",
      "source": [
        "data = df.drop(['Date'], axis=1)\n",
        "data.index = df.Date"
      ],
      "metadata": {
        "id": "MpGQvOjP4-7w"
      },
      "execution_count": null,
      "outputs": []
    },
    {
      "cell_type": "code",
      "source": [
        "def VAR_forecast(dataframe):\n",
        "  train_df = dataframe[:-2790]\n",
        "  test_df = dataframe[-2790:]\n",
        "\n",
        "  model = VAR(endog=train_df)\n",
        "  model_fit = model.fit()\n",
        "  \n",
        "  prediction = model_fit.forecast(model_fit.endog, steps=len(test_df))\n",
        "  pred = pd.DataFrame(index=range(0,len(prediction)), columns=[data.columns])\n",
        "  for j in range(0,len(data.columns)):\n",
        "    for i in range(0, len(prediction)):\n",
        "      pred.iloc[i][j] = prediction[i][j]\n",
        "\n",
        "  for i in data.columns:\n",
        "    print('MAE value for', i, 'is:', round(np.mean(np.abs(np.asarray(test_df[i]) - np.asarray(pred[i]))), 2))\n",
        "    print('MSE value for', i, 'is:', round(mean_squared_error(pred[i], test_df[i]), 2))\n",
        "    print('RMSE value for', i, 'is:', round(math.sqrt(mean_squared_error(pred[i], test_df[i])), 2))\n",
        "    print('MAPE value for', i, 'is:', round(np.mean(np.abs((np.asarray(test_df[i]) - np.asarray(pred[i])) / np.asarray(test_df[i]))), 2))\n",
        "    print('')"
      ],
      "metadata": {
        "id": "q7Py6cVFKIkS"
      },
      "execution_count": null,
      "outputs": []
    },
    {
      "cell_type": "code",
      "source": [
        "VAR_forecast(data)"
      ],
      "metadata": {
        "id": "Eb2pRdz86hqB",
        "colab": {
          "base_uri": "https://localhost:8080/"
        },
        "outputId": "9c51a2ca-08eb-4dfe-960f-c3ed09deb1cc"
      },
      "execution_count": null,
      "outputs": [
        {
          "output_type": "stream",
          "name": "stderr",
          "text": [
            "/usr/local/lib/python3.10/dist-packages/statsmodels/tsa/base/tsa_model.py:471: ValueWarning: A date index has been provided, but it has no associated frequency information and so will be ignored when e.g. forecasting.\n",
            "  self._init_dates(dates, freq)\n"
          ]
        },
        {
          "output_type": "stream",
          "name": "stdout",
          "text": [
            "MAE value for Open is: 578.1\n",
            "MSE value for Open is: 672219.43\n",
            "RMSE value for Open is: 819.89\n",
            "MAPE value for Open is: 0.83\n",
            "\n",
            "MAE value for High is: 582.94\n",
            "MSE value for High is: 683506.88\n",
            "RMSE value for High is: 826.74\n",
            "MAPE value for High is: 0.83\n",
            "\n",
            "MAE value for Low is: 572.35\n",
            "MSE value for Low is: 658480.17\n",
            "RMSE value for Low is: 811.47\n",
            "MAPE value for Low is: 0.83\n",
            "\n",
            "MAE value for Close is: 577.99\n",
            "MSE value for Close is: 671622.5\n",
            "RMSE value for Close is: 819.53\n",
            "MAPE value for Close is: 0.83\n",
            "\n",
            "MAE value for Adj Close is: 577.99\n",
            "MSE value for Adj Close is: 671622.5\n",
            "RMSE value for Adj Close is: 819.53\n",
            "MAPE value for Adj Close is: 0.83\n",
            "\n",
            "MAE value for Volume is: 5754513.21\n",
            "MSE value for Volume is: 38954574224838.54\n",
            "RMSE value for Volume is: 6241359.97\n",
            "MAPE value for Volume is: 1.73\n",
            "\n"
          ]
        }
      ]
    },
    {
      "cell_type": "code",
      "source": [
        "test_dfs = {}"
      ],
      "metadata": {
        "id": "VfAE5F3aM7XH"
      },
      "execution_count": null,
      "outputs": []
    },
    {
      "cell_type": "code",
      "source": [
        "for column in data.columns:\n",
        "    test_dfs[f'test_{column}'] = pd.DataFrame()"
      ],
      "metadata": {
        "id": "_t4CReqCOeNS"
      },
      "execution_count": null,
      "outputs": []
    },
    {
      "cell_type": "code",
      "source": [
        "for i in range(0, len(data)-window_size):\n",
        "  current = data.iloc[i:i+window_size]\n",
        "  next = data.iloc[i+1:i+window_size+1]\n",
        "\n",
        "  for column in current.columns:\n",
        "    temp_df = stat_extraction(current[column], next[column])\n",
        "    test_dfs[f'test_{column}'] = test_dfs[f'test_{column}'].append(temp_df)"
      ],
      "metadata": {
        "id": "H8IaJc2jIXmF"
      },
      "execution_count": null,
      "outputs": []
    },
    {
      "cell_type": "code",
      "source": [
        "for key, value in test_dfs.items():\n",
        "  test_dfs[key] = test_dfs[key].fillna(0)"
      ],
      "metadata": {
        "id": "sSOhd0rysjA2"
      },
      "execution_count": null,
      "outputs": []
    },
    {
      "cell_type": "code",
      "source": [
        "test_preds = {}"
      ],
      "metadata": {
        "id": "Hfqslvj6RRBb"
      },
      "execution_count": null,
      "outputs": []
    },
    {
      "cell_type": "code",
      "source": [
        "for test_data, classifier in zip(test_dfs, classifiers):\n",
        "  test_preds[test_data] = classifiers[classifier].predict(test_dfs[test_data])\n",
        "  test_preds[test_data] = np.concatenate((np.zeros(window_size), test_preds[test_data]))"
      ],
      "metadata": {
        "id": "ElUDxYXVt9at"
      },
      "execution_count": null,
      "outputs": []
    },
    {
      "cell_type": "code",
      "source": [
        "preds = pd.DataFrame.from_dict(test_preds)"
      ],
      "metadata": {
        "id": "yeghWikqJeqk"
      },
      "execution_count": null,
      "outputs": []
    },
    {
      "cell_type": "code",
      "source": [
        "preds = preds.set_index(data.index)\n",
        "do = pd.concat([data, preds], axis=1)"
      ],
      "metadata": {
        "id": "YNExH6XS55N7"
      },
      "execution_count": null,
      "outputs": []
    },
    {
      "cell_type": "code",
      "source": [
        "VAR_forecast(do)"
      ],
      "metadata": {
        "id": "bWwkQrc6K0XQ",
        "colab": {
          "base_uri": "https://localhost:8080/"
        },
        "outputId": "bd57693a-9360-4383-831f-15628a41568c"
      },
      "execution_count": null,
      "outputs": [
        {
          "output_type": "stream",
          "name": "stderr",
          "text": [
            "/usr/local/lib/python3.10/dist-packages/statsmodels/tsa/base/tsa_model.py:471: ValueWarning: A date index has been provided, but it has no associated frequency information and so will be ignored when e.g. forecasting.\n",
            "  self._init_dates(dates, freq)\n"
          ]
        },
        {
          "output_type": "stream",
          "name": "stdout",
          "text": [
            "MAE value for Open is: 576.61\n",
            "MSE value for Open is: 670431.69\n",
            "RMSE value for Open is: 818.8\n",
            "MAPE value for Open is: 0.83\n",
            "\n",
            "MAE value for High is: 581.42\n",
            "MSE value for High is: 681661.89\n",
            "RMSE value for High is: 825.63\n",
            "MAPE value for High is: 0.82\n",
            "\n",
            "MAE value for Low is: 570.89\n",
            "MSE value for Low is: 656750.74\n",
            "RMSE value for Low is: 810.4\n",
            "MAPE value for Low is: 0.83\n",
            "\n",
            "MAE value for Close is: 576.5\n",
            "MSE value for Close is: 669834.24\n",
            "RMSE value for Close is: 818.43\n",
            "MAPE value for Close is: 0.83\n",
            "\n",
            "MAE value for Adj Close is: 576.5\n",
            "MSE value for Adj Close is: 669834.24\n",
            "RMSE value for Adj Close is: 818.43\n",
            "MAPE value for Adj Close is: 0.83\n",
            "\n",
            "MAE value for Volume is: 5855229.11\n",
            "MSE value for Volume is: 40224788171114.36\n",
            "RMSE value for Volume is: 6342301.49\n",
            "MAPE value for Volume is: 1.76\n",
            "\n"
          ]
        }
      ]
    },
    {
      "cell_type": "code",
      "source": [
        "majority_pred = pd.DataFrame()"
      ],
      "metadata": {
        "id": "BfI-Q4wNlvCj"
      },
      "execution_count": null,
      "outputs": []
    },
    {
      "cell_type": "code",
      "source": [
        "majority_pred['maj'] = preds.mode(axis=1)[0]"
      ],
      "metadata": {
        "id": "FExx0URtyiDi"
      },
      "execution_count": null,
      "outputs": []
    },
    {
      "cell_type": "code",
      "source": [
        "da = pd.concat([data, majority_pred], axis=1)"
      ],
      "metadata": {
        "id": "u_X7NiSLypeY"
      },
      "execution_count": null,
      "outputs": []
    },
    {
      "cell_type": "code",
      "source": [
        "VAR_forecast(da)"
      ],
      "metadata": {
        "id": "KWBxKO7Lzu-I",
        "colab": {
          "base_uri": "https://localhost:8080/"
        },
        "outputId": "a72e04da-b7ab-478a-f227-5f41d03762ed"
      },
      "execution_count": null,
      "outputs": [
        {
          "output_type": "stream",
          "name": "stderr",
          "text": [
            "/usr/local/lib/python3.10/dist-packages/statsmodels/tsa/base/tsa_model.py:471: ValueWarning: A date index has been provided, but it has no associated frequency information and so will be ignored when e.g. forecasting.\n",
            "  self._init_dates(dates, freq)\n"
          ]
        },
        {
          "output_type": "stream",
          "name": "stdout",
          "text": [
            "MAE value for Open is: 577.66\n",
            "MSE value for Open is: 671658.57\n",
            "RMSE value for Open is: 819.55\n",
            "MAPE value for Open is: 0.83\n",
            "\n",
            "MAE value for High is: 582.49\n",
            "MSE value for High is: 682927.21\n",
            "RMSE value for High is: 826.39\n",
            "MAPE value for High is: 0.83\n",
            "\n",
            "MAE value for Low is: 571.91\n",
            "MSE value for Low is: 657938.64\n",
            "RMSE value for Low is: 811.13\n",
            "MAPE value for Low is: 0.83\n",
            "\n",
            "MAE value for Close is: 577.55\n",
            "MSE value for Close is: 671061.77\n",
            "RMSE value for Close is: 819.18\n",
            "MAPE value for Close is: 0.83\n",
            "\n",
            "MAE value for Adj Close is: 577.55\n",
            "MSE value for Adj Close is: 671061.77\n",
            "RMSE value for Adj Close is: 819.18\n",
            "MAPE value for Adj Close is: 0.83\n",
            "\n",
            "MAE value for Volume is: 5832277.5\n",
            "MSE value for Volume is: 39881377205378.58\n",
            "RMSE value for Volume is: 6315170.4\n",
            "MAPE value for Volume is: 1.76\n",
            "\n"
          ]
        }
      ]
    },
    {
      "cell_type": "code",
      "source": [
        "def create_sequences(data, n_steps):\n",
        "    X, y = [], []\n",
        "    for i in range(len(data) - n_steps):\n",
        "        X.append(data[i:i + n_steps])\n",
        "        y.append(data[i + n_steps])\n",
        "    return np.array(X), np.array(y)"
      ],
      "metadata": {
        "id": "gJad6kvHLngd"
      },
      "execution_count": null,
      "outputs": []
    },
    {
      "cell_type": "code",
      "source": [
        "def LSTM_forecast(LSTM_data):\n",
        "  scaler = StandardScaler()\n",
        "  scaled_data = scaler.fit_transform(LSTM_data)\n",
        "\n",
        "  train_size = int(len(scaled_data) * 0.8)\n",
        "  train_data = scaled_data[:train_size]\n",
        "  test_data = scaled_data[train_size:]\n",
        "\n",
        "  n_steps = 10\n",
        "\n",
        "  X_train, y_train = create_sequences(train_data, n_steps)\n",
        "  X_test, y_test = create_sequences(test_data, n_steps)\n",
        "\n",
        "\n",
        "  n_features = LSTM_data.shape[1]  \n",
        "  model = Sequential()\n",
        "  model.add(LSTM(units=50, activation='relu', input_shape=(n_steps, n_features)))\n",
        "  model.add(Dense(n_features)) \n",
        "  model.compile(optimizer='adam', loss='mse')\n",
        "\n",
        "  model.fit(X_train, y_train, epochs=10, batch_size=16)\n",
        "\n",
        "  y_pred = model.predict(X_test)\n",
        "\n",
        "  predicted_data = scaler.inverse_transform(y_pred)\n",
        "\n",
        "  predicted_df = pd.DataFrame(predicted_data, columns=LSTM_data.columns)\n",
        "\n",
        "  y_test = scaler.inverse_transform(y_test)\n",
        "\n",
        "  y_test_df =  pd.DataFrame(y_test, columns=LSTM_data.columns)\n",
        "\n",
        "  print('')\n",
        "  print('')\n",
        "  for i in data.columns:\n",
        "    print('MAE value for', i, 'is:', round(np.mean(np.abs(np.asarray(y_test_df[i]) - np.asarray(predicted_df[i]))), 2))\n",
        "    print('MSE value for', i, 'is:', round(mean_squared_error(predicted_df[i], y_test_df[i]), 2))\n",
        "    print('RMSE value for', i, 'is:', round(math.sqrt(mean_squared_error(predicted_df[i], y_test_df[i])), 2))\n",
        "    print('MAPE value for', i, 'is:', round(np.mean(np.abs((np.asarray(y_test_df[i]) - np.asarray(predicted_df[i])) / np.asarray(y_test_df[i]))), 2))\n",
        "    print('')"
      ],
      "metadata": {
        "id": "2thaVjJCLWtn"
      },
      "execution_count": null,
      "outputs": []
    },
    {
      "cell_type": "code",
      "source": [
        "LSTM_forecast(data)"
      ],
      "metadata": {
        "id": "RZHXVVyOsyWr",
        "colab": {
          "base_uri": "https://localhost:8080/"
        },
        "outputId": "8b8d15c5-8d30-4b2f-e229-7cbed2d6bc50"
      },
      "execution_count": null,
      "outputs": [
        {
          "output_type": "stream",
          "name": "stdout",
          "text": [
            "Epoch 1/10\n",
            "285/285 [==============================] - 4s 7ms/step - loss: 0.1350\n",
            "Epoch 2/10\n",
            "285/285 [==============================] - 2s 7ms/step - loss: 0.0973\n",
            "Epoch 3/10\n",
            "285/285 [==============================] - 3s 9ms/step - loss: 0.0930\n",
            "Epoch 4/10\n",
            "285/285 [==============================] - 2s 9ms/step - loss: 0.0911\n",
            "Epoch 5/10\n",
            "285/285 [==============================] - 2s 7ms/step - loss: 0.0913\n",
            "Epoch 6/10\n",
            "285/285 [==============================] - 2s 7ms/step - loss: 0.0910\n",
            "Epoch 7/10\n",
            "285/285 [==============================] - 2s 8ms/step - loss: 0.0896\n",
            "Epoch 8/10\n",
            "285/285 [==============================] - 2s 7ms/step - loss: 0.0895\n",
            "Epoch 9/10\n",
            "285/285 [==============================] - 3s 10ms/step - loss: 0.0889\n",
            "Epoch 10/10\n",
            "285/285 [==============================] - 2s 8ms/step - loss: 0.0892\n",
            "36/36 [==============================] - 1s 3ms/step\n",
            "\n",
            "\n",
            "MAE value for Open is: 2672.9\n",
            "MSE value for Open is: 12578790.46\n",
            "RMSE value for Open is: 3546.66\n",
            "MAPE value for Open is: 1.73\n",
            "\n",
            "MAE value for High is: 1850.59\n",
            "MSE value for High is: 6447117.28\n",
            "RMSE value for High is: 2539.12\n",
            "MAPE value for High is: 1.16\n",
            "\n",
            "MAE value for Low is: 2960.36\n",
            "MSE value for Low is: 15483929.89\n",
            "RMSE value for Low is: 3934.96\n",
            "MAPE value for Low is: 1.94\n",
            "\n",
            "MAE value for Close is: 4549.98\n",
            "MSE value for Close is: 40048334.8\n",
            "RMSE value for Close is: 6328.38\n",
            "MAPE value for Close is: 2.83\n",
            "\n",
            "MAE value for Adj Close is: 4753.1\n",
            "MSE value for Adj Close is: 41285421.54\n",
            "RMSE value for Adj Close is: 6425.37\n",
            "MAPE value for Adj Close is: 3.03\n",
            "\n",
            "MAE value for Volume is: 52845213.44\n",
            "MSE value for Volume is: 5085140007910850.0\n",
            "RMSE value for Volume is: 71310167.63\n",
            "MAPE value for Volume is: 13.89\n",
            "\n"
          ]
        }
      ]
    },
    {
      "cell_type": "code",
      "source": [
        "LSTM_forecast(do)"
      ],
      "metadata": {
        "colab": {
          "base_uri": "https://localhost:8080/"
        },
        "id": "WkLdswiJPMe5",
        "outputId": "614f3f83-ecfb-4509-814e-4900e23b325c"
      },
      "execution_count": null,
      "outputs": [
        {
          "output_type": "stream",
          "name": "stdout",
          "text": [
            "Epoch 1/10\n",
            "285/285 [==============================] - 4s 7ms/step - loss: 0.1600\n",
            "Epoch 2/10\n",
            "285/285 [==============================] - 2s 7ms/step - loss: 0.0916\n",
            "Epoch 3/10\n",
            "285/285 [==============================] - 2s 9ms/step - loss: 0.0824\n",
            "Epoch 4/10\n",
            "285/285 [==============================] - 3s 10ms/step - loss: 0.0799\n",
            "Epoch 5/10\n",
            "285/285 [==============================] - 2s 7ms/step - loss: 0.0761\n",
            "Epoch 6/10\n",
            "285/285 [==============================] - 2s 7ms/step - loss: 0.0752\n",
            "Epoch 7/10\n",
            "285/285 [==============================] - 2s 7ms/step - loss: 0.0739\n",
            "Epoch 8/10\n",
            "285/285 [==============================] - 2s 7ms/step - loss: 0.0735\n",
            "Epoch 9/10\n",
            "285/285 [==============================] - 3s 9ms/step - loss: 0.0733\n",
            "Epoch 10/10\n",
            "285/285 [==============================] - 3s 9ms/step - loss: 0.0723\n",
            "36/36 [==============================] - 0s 3ms/step\n",
            "\n",
            "\n",
            "MAE value for Open is: 424.96\n",
            "MSE value for Open is: 231877.25\n",
            "RMSE value for Open is: 481.54\n",
            "MAPE value for Open is: 0.36\n",
            "\n",
            "MAE value for High is: 345.52\n",
            "MSE value for High is: 155718.26\n",
            "RMSE value for High is: 394.61\n",
            "MAPE value for High is: 0.27\n",
            "\n",
            "MAE value for Low is: 692.68\n",
            "MSE value for Low is: 646392.94\n",
            "RMSE value for Low is: 803.99\n",
            "MAPE value for Low is: 0.61\n",
            "\n",
            "MAE value for Close is: 118.0\n",
            "MSE value for Close is: 27683.95\n",
            "RMSE value for Close is: 166.38\n",
            "MAPE value for Close is: 0.08\n",
            "\n",
            "MAE value for Adj Close is: 876.1\n",
            "MSE value for Adj Close is: 965133.93\n",
            "RMSE value for Adj Close is: 982.41\n",
            "MAPE value for Adj Close is: 0.74\n",
            "\n",
            "MAE value for Volume is: 1954896.31\n",
            "MSE value for Volume is: 7488492442383.01\n",
            "RMSE value for Volume is: 2736511.0\n",
            "MAPE value for Volume is: 0.47\n",
            "\n"
          ]
        }
      ]
    },
    {
      "cell_type": "code",
      "source": [
        "LSTM_forecast(da)"
      ],
      "metadata": {
        "colab": {
          "base_uri": "https://localhost:8080/"
        },
        "id": "WGKcvDjtQ_38",
        "outputId": "ceb8dcbe-22c9-4669-c7bb-663152d65dac"
      },
      "execution_count": null,
      "outputs": [
        {
          "output_type": "stream",
          "name": "stdout",
          "text": [
            "Epoch 1/10\n",
            "285/285 [==============================] - 4s 7ms/step - loss: 0.1156\n",
            "Epoch 2/10\n",
            "285/285 [==============================] - 2s 8ms/step - loss: 0.0826\n",
            "Epoch 3/10\n",
            "285/285 [==============================] - 2s 8ms/step - loss: 0.0790\n",
            "Epoch 4/10\n",
            "285/285 [==============================] - 3s 11ms/step - loss: 0.0789\n",
            "Epoch 5/10\n",
            "285/285 [==============================] - 2s 7ms/step - loss: 0.0783\n",
            "Epoch 6/10\n",
            "285/285 [==============================] - 2s 7ms/step - loss: 0.0786\n",
            "Epoch 7/10\n",
            "285/285 [==============================] - 2s 8ms/step - loss: 0.0776\n",
            "Epoch 8/10\n",
            "285/285 [==============================] - 2s 7ms/step - loss: 0.0769\n",
            "Epoch 9/10\n",
            "285/285 [==============================] - 2s 8ms/step - loss: 0.0764\n",
            "Epoch 10/10\n",
            "285/285 [==============================] - 3s 10ms/step - loss: 0.0772\n",
            "36/36 [==============================] - 0s 3ms/step\n",
            "\n",
            "\n",
            "MAE value for Open is: 542.7\n",
            "MSE value for Open is: 334228.68\n",
            "RMSE value for Open is: 578.13\n",
            "MAPE value for Open is: 0.48\n",
            "\n",
            "MAE value for High is: 286.27\n",
            "MSE value for High is: 99163.13\n",
            "RMSE value for High is: 314.9\n",
            "MAPE value for High is: 0.26\n",
            "\n",
            "MAE value for Low is: 585.22\n",
            "MSE value for Low is: 475711.82\n",
            "RMSE value for Low is: 689.72\n",
            "MAPE value for Low is: 0.44\n",
            "\n",
            "MAE value for Close is: 230.8\n",
            "MSE value for Close is: 119958.98\n",
            "RMSE value for Close is: 346.35\n",
            "MAPE value for Close is: 0.15\n",
            "\n",
            "MAE value for Adj Close is: 421.64\n",
            "MSE value for Adj Close is: 206925.41\n",
            "RMSE value for Adj Close is: 454.89\n",
            "MAPE value for Adj Close is: 0.37\n",
            "\n",
            "MAE value for Volume is: 11574287.88\n",
            "MSE value for Volume is: 240038034531021.8\n",
            "RMSE value for Volume is: 15493160.9\n",
            "MAPE value for Volume is: 2.94\n",
            "\n"
          ]
        }
      ]
    }
  ],
  "metadata": {
    "kernelspec": {
      "display_name": "Python 3",
      "language": "python",
      "name": "python3"
    },
    "language_info": {
      "codemirror_mode": {
        "name": "ipython",
        "version": 3
      },
      "file_extension": ".py",
      "mimetype": "text/x-python",
      "name": "python",
      "nbconvert_exporter": "python",
      "pygments_lexer": "ipython3",
      "version": "3.8.5"
    },
    "colab": {
      "provenance": []
    },
    "gpuClass": "standard"
  },
  "nbformat": 4,
  "nbformat_minor": 0
}