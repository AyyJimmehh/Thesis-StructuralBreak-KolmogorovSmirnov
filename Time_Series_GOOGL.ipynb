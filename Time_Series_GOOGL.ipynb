{
  "cells": [
    {
      "cell_type": "code",
      "source": [
        "import warnings\n",
        "warnings.filterwarnings(\"ignore\")"
      ],
      "metadata": {
        "id": "GE2LqwrnDE5V"
      },
      "execution_count": null,
      "outputs": []
    },
    {
      "cell_type": "code",
      "source": [
        "pip install scikit-plot==0.3.7"
      ],
      "metadata": {
        "id": "xISa5HiMLMfi",
        "colab": {
          "base_uri": "https://localhost:8080/"
        },
        "outputId": "b9669e62-4e6f-4e8c-9f4b-e05f76bda646"
      },
      "execution_count": null,
      "outputs": [
        {
          "output_type": "stream",
          "name": "stdout",
          "text": [
            "Looking in indexes: https://pypi.org/simple, https://us-python.pkg.dev/colab-wheels/public/simple/\n",
            "Collecting scikit-plot==0.3.7\n",
            "  Downloading scikit_plot-0.3.7-py3-none-any.whl (33 kB)\n",
            "Requirement already satisfied: matplotlib>=1.4.0 in /usr/local/lib/python3.10/dist-packages (from scikit-plot==0.3.7) (3.7.1)\n",
            "Requirement already satisfied: scikit-learn>=0.18 in /usr/local/lib/python3.10/dist-packages (from scikit-plot==0.3.7) (1.2.2)\n",
            "Requirement already satisfied: scipy>=0.9 in /usr/local/lib/python3.10/dist-packages (from scikit-plot==0.3.7) (1.10.1)\n",
            "Requirement already satisfied: joblib>=0.10 in /usr/local/lib/python3.10/dist-packages (from scikit-plot==0.3.7) (1.2.0)\n",
            "Requirement already satisfied: contourpy>=1.0.1 in /usr/local/lib/python3.10/dist-packages (from matplotlib>=1.4.0->scikit-plot==0.3.7) (1.0.7)\n",
            "Requirement already satisfied: cycler>=0.10 in /usr/local/lib/python3.10/dist-packages (from matplotlib>=1.4.0->scikit-plot==0.3.7) (0.11.0)\n",
            "Requirement already satisfied: fonttools>=4.22.0 in /usr/local/lib/python3.10/dist-packages (from matplotlib>=1.4.0->scikit-plot==0.3.7) (4.39.3)\n",
            "Requirement already satisfied: kiwisolver>=1.0.1 in /usr/local/lib/python3.10/dist-packages (from matplotlib>=1.4.0->scikit-plot==0.3.7) (1.4.4)\n",
            "Requirement already satisfied: numpy>=1.20 in /usr/local/lib/python3.10/dist-packages (from matplotlib>=1.4.0->scikit-plot==0.3.7) (1.22.4)\n",
            "Requirement already satisfied: packaging>=20.0 in /usr/local/lib/python3.10/dist-packages (from matplotlib>=1.4.0->scikit-plot==0.3.7) (23.1)\n",
            "Requirement already satisfied: pillow>=6.2.0 in /usr/local/lib/python3.10/dist-packages (from matplotlib>=1.4.0->scikit-plot==0.3.7) (8.4.0)\n",
            "Requirement already satisfied: pyparsing>=2.3.1 in /usr/local/lib/python3.10/dist-packages (from matplotlib>=1.4.0->scikit-plot==0.3.7) (3.0.9)\n",
            "Requirement already satisfied: python-dateutil>=2.7 in /usr/local/lib/python3.10/dist-packages (from matplotlib>=1.4.0->scikit-plot==0.3.7) (2.8.2)\n",
            "Requirement already satisfied: threadpoolctl>=2.0.0 in /usr/local/lib/python3.10/dist-packages (from scikit-learn>=0.18->scikit-plot==0.3.7) (3.1.0)\n",
            "Requirement already satisfied: six>=1.5 in /usr/local/lib/python3.10/dist-packages (from python-dateutil>=2.7->matplotlib>=1.4.0->scikit-plot==0.3.7) (1.16.0)\n",
            "Installing collected packages: scikit-plot\n",
            "Successfully installed scikit-plot-0.3.7\n"
          ]
        }
      ]
    },
    {
      "cell_type": "code",
      "source": [
        "from statsmodels.tsa.vector_ar.var_model import VAR\n",
        "import scikitplot as skplt"
      ],
      "metadata": {
        "id": "zOTfQJb65R2S"
      },
      "execution_count": null,
      "outputs": []
    },
    {
      "cell_type": "code",
      "source": [
        "import tensorflow as tf\n",
        "from tensorflow.keras.models import Sequential\n",
        "from tensorflow.keras.layers import LSTM, Dense, Dropout\n",
        "from sklearn.preprocessing import StandardScaler"
      ],
      "metadata": {
        "id": "LkVat54prat8"
      },
      "execution_count": null,
      "outputs": []
    },
    {
      "cell_type": "code",
      "execution_count": null,
      "metadata": {
        "id": "60dMNFrIublV"
      },
      "outputs": [],
      "source": [
        "import numpy as np\n",
        "import matplotlib.pyplot as plt\n",
        "import pandas as pd\n",
        "from datetime import datetime\n",
        "from scipy.stats import kurtosis\n",
        "from scipy.stats import ks_2samp\n",
        "from scipy.stats import mode\n",
        "from sklearn.svm import OneClassSVM\n",
        "from sklearn.ensemble import RandomForestClassifier\n",
        "from sklearn.model_selection import train_test_split\n",
        "import math\n",
        "from sklearn.metrics import accuracy_score, mean_squared_error"
      ]
    },
    {
      "cell_type": "code",
      "execution_count": null,
      "metadata": {
        "id": "FlKczmAXublY"
      },
      "outputs": [],
      "source": [
        "class DataStreamer:\n",
        "    \n",
        "    def __init__(self, filename, block_size):\n",
        "\n",
        "        self.filename =  filename\n",
        "        self.block_size = block_size\n",
        "        self.cur_index = 0;\n",
        "        self.data = pd.read_excel(filename)\n",
        "        self.row_size = len(self.data)\n",
        "        \n",
        "    def print_meta(self):\n",
        "        \n",
        "        print('File Name\\t:\\t', self.filename)\n",
        "        print('Block Size\\t:\\t', self.block_size)\n",
        "        print('Current Index\\t:\\t', self.cur_index)\n",
        "        print('Data length\\t:\\t',self.row_size)\n",
        "        \n",
        "    def reset(self):\n",
        "        \n",
        "        self.cur_index = 0\n",
        "        \n",
        "    def get_next_block(self):\n",
        "        \n",
        "        if self.cur_index+self.block_size+1 > self.row_size:\n",
        "            block = self.data.iloc[self.cur_index:,:]\n",
        "        else: \n",
        "            block = self.data.iloc[self.cur_index:self.cur_index+self.block_size,:]\n",
        "        self.cur_index=self.cur_index+self.block_size\n",
        "        return block.values\n",
        "    \n",
        "    def has_next(self):\n",
        "        \n",
        "        if self.cur_index>=self.row_size:\n",
        "            return False\n",
        "        return True\n",
        "    \n",
        "    def get_full_stream(self):\n",
        "        \n",
        "        return self.data.values\n",
        "\n",
        "    def get_block_size(self):\n",
        "      \n",
        "        return self.block_size\n",
        "\n",
        "    def get_row_size(self):\n",
        "\n",
        "        return self.row_size"
      ]
    },
    {
      "cell_type": "code",
      "execution_count": null,
      "metadata": {
        "id": "ly5Viewtubla",
        "colab": {
          "base_uri": "https://localhost:8080/"
        },
        "outputId": "5327a654-faa1-4796-bba8-64180246821b"
      },
      "outputs": [
        {
          "output_type": "stream",
          "name": "stdout",
          "text": [
            "File Name\t:\t GOOGL.xlsx\n",
            "Block Size\t:\t 100\n",
            "Current Index\t:\t 0\n",
            "Data length\t:\t 3932\n",
            "True\n"
          ]
        }
      ],
      "source": [
        "streamer =  DataStreamer('GOOGL.xlsx', 100)\n",
        "streamer.print_meta()\n",
        "\n",
        "print(streamer.has_next())"
      ]
    },
    {
      "cell_type": "code",
      "source": [
        "window_size = streamer.get_block_size()"
      ],
      "metadata": {
        "id": "SXGpBKVR5QXP"
      },
      "execution_count": null,
      "outputs": []
    },
    {
      "cell_type": "code",
      "source": [
        "def process_block(block):\n",
        "\n",
        "  #Dropping Date and Time columns respectively \n",
        "  df_block = pd.DataFrame(block)\n",
        "  df_block = df_block.drop([0], axis=1)\n",
        "\n",
        "  #Replacing 'NaN' values with 0\n",
        "  for j in df_block.columns:\n",
        "    for i in range(0, len(df_block)):\n",
        "      if df_block[j][i] == -200:\n",
        "        df_block[j][i] = 0\n",
        "        \n",
        "  #Adding columns to dictionary   \n",
        "  block_cols = {}\n",
        "  for col in df_block.columns:\n",
        "    block_cols[col] = df_block[col]\n",
        "  return block_cols"
      ],
      "metadata": {
        "id": "B_kUeLmzE53H"
      },
      "execution_count": null,
      "outputs": []
    },
    {
      "cell_type": "code",
      "source": [
        "def compare_dictionaries(dict1, dict2):\n",
        " \n",
        "    num_rejected = 0\n",
        "    num_values = 0\n",
        "    bool_dict = {}\n",
        "\n",
        "    for key1, key2 in zip(dict1, dict2):\n",
        "        stat, p_value = ks_2samp(dict1[key1], dict2[key2])\n",
        "        \n",
        "        if p_value <= 0.01:\n",
        "            num_rejected += 1\n",
        "            bool_dict[key1] = True\n",
        "        else:\n",
        "            bool_dict[key1] = False\n",
        "        num_values += 1\n",
        "    \n",
        "    pct_rejected = num_rejected / num_values\n",
        "    \n",
        "    return pct_rejected >= 0.7, bool_dict"
      ],
      "metadata": {
        "id": "ImFuvxwwbQQZ"
      },
      "execution_count": null,
      "outputs": []
    },
    {
      "cell_type": "code",
      "source": [
        "def stat_extraction(cols1, cols2):\n",
        "  stat_df = pd.DataFrame()\n",
        "\n",
        "  stat_df['Mode_1'] = mode(np.asarray(cols1))[0]\n",
        "\n",
        "  stat_df['Mean_2'] = np.mean(cols2)\n",
        "  stat_df['Median_2'] = np.median(cols2)\n",
        "  stat_df['Mode_2'] = mode(np.asarray(cols2))[0]\n",
        "\n",
        "  stat_df['Std_1'] = np.std(np.asarray(cols1))\n",
        "  stat_df['Std_2'] = np.std(np.asarray(cols2))\n",
        "\n",
        "  stat_df['Kurtosis_1'] = kurtosis(np.asarray(cols1, dtype = float))\n",
        "  stat_df['Kurtosis_2'] = kurtosis(np.asarray(cols2, dtype = float))  \n",
        "\n",
        "  stat_df['Mean_1'] = np.mean(cols1)\n",
        "  stat_df['Median_1'] = np.median(cols1)\n",
        "            \n",
        "  return stat_df"
      ],
      "metadata": {
        "id": "IIR_JGCMPMGN"
      },
      "execution_count": null,
      "outputs": []
    },
    {
      "cell_type": "code",
      "source": [
        "block1 = streamer.get_next_block()\n",
        "block2 = streamer.get_next_block()\n",
        "feature_dfs = {}\n",
        "stats_df = {}\n",
        "\n",
        "block1_cols = process_block(block1)\n",
        "\n",
        "#Creating dictionaries to hold dataframes for both entire features and extracted statistics for each feature separately  \n",
        "for key in block1_cols:\n",
        "  feature_dfs[f'feature_{key}'] = pd.DataFrame(columns = [\"Class\"])\n",
        "  stats_df[f'stats_{key}'] = pd.DataFrame(columns = [\"Class\"])\n",
        "\n",
        "while block2.shape[0] not in [streamer.get_row_size() % window_size]:\n",
        "    \n",
        "    block1_cols, block2_cols = process_block(block1), process_block(block2)\n",
        "    result, feature_result = compare_dictionaries(block1_cols, block2_cols)\n",
        "\n",
        "    for key, value in feature_result.items():\n",
        "      stat_df = stat_extraction(block1_cols[key], block2_cols[key])\n",
        "      stat_df['Class'] = value\n",
        "\n",
        "      stats_df[f'stats_{key}'] = stats_df[f'stats_{key}'].append(stat_df)\n",
        "\n",
        "    block1 = block2\n",
        "    block2 = streamer.get_next_block()"
      ],
      "metadata": {
        "id": "gyBc4q3XaTqb"
      },
      "execution_count": null,
      "outputs": []
    },
    {
      "cell_type": "code",
      "source": [
        "classifiers = {}"
      ],
      "metadata": {
        "id": "gNeOZg5Sr6JY"
      },
      "execution_count": null,
      "outputs": []
    },
    {
      "cell_type": "code",
      "source": [
        "for key, value in stats_df.items():\n",
        "  stats_df[key] = stats_df[key].fillna(0)\n",
        "  stats_df[key] = stats_df[key].reset_index(drop=True)\n",
        "  X_train, X_test, y_train, y_test = train_test_split(stats_df[key].drop('Class', axis=1), \n",
        "                                                      stats_df[key]['Class'].astype('int'), \n",
        "                                                      test_size=0.3, \n",
        "                                                      random_state=17)\n",
        "  \n",
        "  if ((y_train ==0).sum() < 0.01*len(y_train)):\n",
        "    model = OneClassSVM(gamma='scale', nu=0.01)\n",
        "    model.fit(X_train)\n",
        "    y_pred = model.predict(X_test)\n",
        "    classifiers[key] = model\n",
        "    accuracy = accuracy_score(y_test, y_pred)\n",
        "    print(f'Accuracy: {round(accuracy, 2)}')\n",
        "    skplt.metrics.plot_confusion_matrix(y_test, y_pred, normalize=False, title = 'Confusion Matrix')\n",
        "\n",
        "  else: \n",
        "    rf = RandomForestClassifier(n_estimators=100, random_state=17)\n",
        "    rf.fit(X_train, y_train)\n",
        "    y_pred = rf.predict(X_test)\n",
        "    classifiers[key] = rf\n",
        "    accuracy = accuracy_score(y_test, y_pred)\n",
        "    print(f'Accuracy: {round(accuracy, 2)}')\n",
        "    skplt.metrics.plot_confusion_matrix(y_test, y_pred, normalize=False, title = 'Confusion Matrix')"
      ],
      "metadata": {
        "id": "tm_S7_3RtdpY",
        "colab": {
          "base_uri": "https://localhost:8080/",
          "height": 1000
        },
        "outputId": "25cce45a-3c0e-4423-b529-4112ff7340eb"
      },
      "execution_count": null,
      "outputs": [
        {
          "output_type": "stream",
          "name": "stdout",
          "text": [
            "Accuracy: 0.75\n",
            "Accuracy: 0.92\n",
            "Accuracy: 0.75\n",
            "Accuracy: 0.83\n",
            "Accuracy: 0.83\n",
            "Accuracy: 0.5\n"
          ]
        },
        {
          "output_type": "display_data",
          "data": {
            "text/plain": [
              "<Figure size 640x480 with 2 Axes>"
            ],
            "image/png": "[encoded data removed]"
          },
          "metadata": {}
        },
        {
          "output_type": "display_data",
          "data": {
            "text/plain": [
              "<Figure size 640x480 with 2 Axes>"
            ],
            "image/png": "[encoded data removed]"
          },
          "metadata": {}
        },
        {
          "output_type": "display_data",
          "data": {
            "text/plain": [
              "<Figure size 640x480 with 2 Axes>"
            ],
            "image/png": "[encoded data removed]"
          },
          "metadata": {}
        },
        {
          "output_type": "display_data",
          "data": {
            "text/plain": [
              "<Figure size 640x480 with 2 Axes>"
            ],
            "image/png": "[encoded data removed]"
          },
          "metadata": {}
        },
        {
          "output_type": "display_data",
          "data": {
            "text/plain": [
              "<Figure size 640x480 with 2 Axes>"
            ],
            "image/png": "[encoded data removed]"
          },
          "metadata": {}
        },
        {
          "output_type": "display_data",
          "data": {
            "text/plain": [
              "<Figure size 640x480 with 2 Axes>"
            ],
            "image/png": "[encoded data removed]"
          },
          "metadata": {}
        }
      ]
    },
    {
      "cell_type": "code",
      "source": [
        "rem = streamer.get_row_size() % window_size"
      ],
      "metadata": {
        "id": "o2oEPxDabVW6"
      },
      "execution_count": null,
      "outputs": []
    },
    {
      "cell_type": "code",
      "source": [
        "df = pd.read_excel('GOOGL.xlsx', parse_dates=['Date'])\n",
        "df = df.drop(df.index[-rem:])"
      ],
      "metadata": {
        "id": "URXOcIMD_ElV"
      },
      "execution_count": null,
      "outputs": []
    },
    {
      "cell_type": "code",
      "source": [
        "df['Date'] = pd.to_datetime(df.Date, format = '%d/%m/%Y')"
      ],
      "metadata": {
        "id": "_y3l_2Ee4m0B"
      },
      "execution_count": null,
      "outputs": []
    },
    {
      "cell_type": "code",
      "source": [
        "data = df.drop(['Date'], axis=1)\n",
        "data.index = df.Date"
      ],
      "metadata": {
        "id": "MpGQvOjP4-7w"
      },
      "execution_count": null,
      "outputs": []
    },
    {
      "cell_type": "code",
      "source": [
        "def VAR_forecast(dataframe):\n",
        "  train_df = dataframe[:-2790]\n",
        "  test_df = dataframe[-2790:]\n",
        "\n",
        "  model = VAR(endog=train_df)\n",
        "  model_fit = model.fit()\n",
        "  \n",
        "  prediction = model_fit.forecast(model_fit.endog, steps=len(test_df))\n",
        "  pred = pd.DataFrame(index=range(0,len(prediction)), columns=[data.columns])\n",
        "  for j in range(0,len(data.columns)):\n",
        "    for i in range(0, len(prediction)):\n",
        "      pred.iloc[i][j] = prediction[i][j]\n",
        "\n",
        "  for i in data.columns:\n",
        "    print('MAE value for', i, 'is:', round(np.mean(np.abs(np.asarray(test_df[i]) - np.asarray(pred[i]))), 2))\n",
        "    print('MSE value for', i, 'is:', round(mean_squared_error(pred[i], test_df[i]), 2))\n",
        "    print('RMSE value for', i, 'is:', round(math.sqrt(mean_squared_error(pred[i], test_df[i])), 2))\n",
        "    print('MAPE value for', i, 'is:', round(np.mean(np.abs((np.asarray(test_df[i]) - np.asarray(pred[i])) / np.asarray(test_df[i]))), 2))\n",
        "    print('')"
      ],
      "metadata": {
        "id": "q7Py6cVFKIkS"
      },
      "execution_count": null,
      "outputs": []
    },
    {
      "cell_type": "code",
      "source": [
        "VAR_forecast(data)"
      ],
      "metadata": {
        "id": "Eb2pRdz86hqB",
        "colab": {
          "base_uri": "https://localhost:8080/"
        },
        "outputId": "aa5aaec4-0eb4-4549-a431-c32a261b1d5f"
      },
      "execution_count": null,
      "outputs": [
        {
          "output_type": "stream",
          "name": "stderr",
          "text": [
            "/usr/local/lib/python3.10/dist-packages/statsmodels/tsa/base/tsa_model.py:471: ValueWarning: A date index has been provided, but it has no associated frequency information and so will be ignored when e.g. forecasting.\n",
            "  self._init_dates(dates, freq)\n"
          ]
        },
        {
          "output_type": "stream",
          "name": "stdout",
          "text": [
            "MAE value for Open is: 410.7\n",
            "MSE value for Open is: 281708.1\n",
            "RMSE value for Open is: 530.76\n",
            "MAPE value for Open is: 0.53\n",
            "\n",
            "MAE value for High is: 413.2\n",
            "MSE value for High is: 285713.36\n",
            "RMSE value for High is: 534.52\n",
            "MAPE value for High is: 0.53\n",
            "\n",
            "MAE value for Low is: 408.22\n",
            "MSE value for Low is: 277872.58\n",
            "RMSE value for Low is: 527.14\n",
            "MAPE value for Low is: 0.54\n",
            "\n",
            "MAE value for Close is: 410.95\n",
            "MSE value for Close is: 282128.78\n",
            "RMSE value for Close is: 531.16\n",
            "MAPE value for Close is: 0.53\n",
            "\n",
            "MAE value for Adj Close is: 410.95\n",
            "MSE value for Adj Close is: 282128.78\n",
            "RMSE value for Adj Close is: 531.16\n",
            "MAPE value for Adj Close is: 0.53\n",
            "\n",
            "MAE value for Volume is: 11294693.19\n",
            "MSE value for Volume is: 132805992131357.45\n",
            "RMSE value for Volume is: 11524148.22\n",
            "MAPE value for Volume is: 5.4\n",
            "\n"
          ]
        }
      ]
    },
    {
      "cell_type": "code",
      "source": [
        "test_dfs = {}"
      ],
      "metadata": {
        "id": "VfAE5F3aM7XH"
      },
      "execution_count": null,
      "outputs": []
    },
    {
      "cell_type": "code",
      "source": [
        "for column in data.columns:\n",
        "    test_dfs[f'test_{column}'] = pd.DataFrame()"
      ],
      "metadata": {
        "id": "_t4CReqCOeNS"
      },
      "execution_count": null,
      "outputs": []
    },
    {
      "cell_type": "code",
      "source": [
        "for i in range(0, len(data)-window_size):\n",
        "  current = data.iloc[i:i+window_size]\n",
        "  next = data.iloc[i+1:i+window_size+1]\n",
        "\n",
        "  for column in current.columns:\n",
        "    temp_df = stat_extraction(current[column], next[column])\n",
        "    test_dfs[f'test_{column}'] = test_dfs[f'test_{column}'].append(temp_df)"
      ],
      "metadata": {
        "id": "H8IaJc2jIXmF"
      },
      "execution_count": null,
      "outputs": []
    },
    {
      "cell_type": "code",
      "source": [
        "for key, value in test_dfs.items():\n",
        "  test_dfs[key] = test_dfs[key].fillna(0)"
      ],
      "metadata": {
        "id": "sSOhd0rysjA2"
      },
      "execution_count": null,
      "outputs": []
    },
    {
      "cell_type": "code",
      "source": [
        "test_preds = {}"
      ],
      "metadata": {
        "id": "Hfqslvj6RRBb"
      },
      "execution_count": null,
      "outputs": []
    },
    {
      "cell_type": "code",
      "source": [
        "for test_data, classifier in zip(test_dfs, classifiers):\n",
        "  test_preds[test_data] = classifiers[classifier].predict(test_dfs[test_data])\n",
        "  test_preds[test_data] = np.concatenate((np.zeros(window_size), test_preds[test_data]))"
      ],
      "metadata": {
        "id": "ElUDxYXVt9at"
      },
      "execution_count": null,
      "outputs": []
    },
    {
      "cell_type": "code",
      "source": [
        "preds = pd.DataFrame.from_dict(test_preds)"
      ],
      "metadata": {
        "id": "yeghWikqJeqk"
      },
      "execution_count": null,
      "outputs": []
    },
    {
      "cell_type": "code",
      "source": [
        "preds = preds.set_index(data.index)\n",
        "do = pd.concat([data, preds], axis=1)"
      ],
      "metadata": {
        "id": "YNExH6XS55N7"
      },
      "execution_count": null,
      "outputs": []
    },
    {
      "cell_type": "code",
      "source": [
        "VAR_forecast(do)"
      ],
      "metadata": {
        "colab": {
          "base_uri": "https://localhost:8080/"
        },
        "id": "bWwkQrc6K0XQ",
        "outputId": "f53033f3-9627-4944-da36-6f85f7fc2003"
      },
      "execution_count": null,
      "outputs": [
        {
          "output_type": "stream",
          "name": "stderr",
          "text": [
            "/usr/local/lib/python3.10/dist-packages/statsmodels/tsa/base/tsa_model.py:471: ValueWarning: A date index has been provided, but it has no associated frequency information and so will be ignored when e.g. forecasting.\n",
            "  self._init_dates(dates, freq)\n"
          ]
        },
        {
          "output_type": "stream",
          "name": "stdout",
          "text": [
            "MAE value for Open is: 408.34\n",
            "MSE value for Open is: 279948.78\n",
            "RMSE value for Open is: 529.1\n",
            "MAPE value for Open is: 0.53\n",
            "\n",
            "MAE value for High is: 410.83\n",
            "MSE value for High is: 283930.12\n",
            "RMSE value for High is: 532.85\n",
            "MAPE value for High is: 0.53\n",
            "\n",
            "MAE value for Low is: 405.89\n",
            "MSE value for Low is: 276141.88\n",
            "RMSE value for Low is: 525.49\n",
            "MAPE value for Low is: 0.53\n",
            "\n",
            "MAE value for Close is: 408.6\n",
            "MSE value for Close is: 280368.26\n",
            "RMSE value for Close is: 529.5\n",
            "MAPE value for Close is: 0.53\n",
            "\n",
            "MAE value for Adj Close is: 408.6\n",
            "MSE value for Adj Close is: 280368.26\n",
            "RMSE value for Adj Close is: 529.5\n",
            "MAPE value for Adj Close is: 0.53\n",
            "\n",
            "MAE value for Volume is: 11452003.28\n",
            "MSE value for Volume is: 136170918842803.94\n",
            "RMSE value for Volume is: 11669229.57\n",
            "MAPE value for Volume is: 5.46\n",
            "\n"
          ]
        }
      ]
    },
    {
      "cell_type": "code",
      "source": [
        "majority_pred = pd.DataFrame()"
      ],
      "metadata": {
        "id": "rg1ZQcAqsgyO"
      },
      "execution_count": null,
      "outputs": []
    },
    {
      "cell_type": "code",
      "source": [
        "majority_pred['maj'] = preds.mode(axis=1)[0]"
      ],
      "metadata": {
        "id": "FExx0URtyiDi"
      },
      "execution_count": null,
      "outputs": []
    },
    {
      "cell_type": "code",
      "source": [
        "da = pd.concat([data, majority_pred], axis=1)"
      ],
      "metadata": {
        "id": "u_X7NiSLypeY"
      },
      "execution_count": null,
      "outputs": []
    },
    {
      "cell_type": "code",
      "source": [
        "VAR_forecast(da)"
      ],
      "metadata": {
        "colab": {
          "base_uri": "https://localhost:8080/"
        },
        "id": "KWBxKO7Lzu-I",
        "outputId": "fe78efab-24aa-4de0-9f06-5dff8c0cd264"
      },
      "execution_count": null,
      "outputs": [
        {
          "output_type": "stream",
          "name": "stderr",
          "text": [
            "/usr/local/lib/python3.10/dist-packages/statsmodels/tsa/base/tsa_model.py:471: ValueWarning: A date index has been provided, but it has no associated frequency information and so will be ignored when e.g. forecasting.\n",
            "  self._init_dates(dates, freq)\n"
          ]
        },
        {
          "output_type": "stream",
          "name": "stdout",
          "text": [
            "MAE value for Open is: 408.34\n",
            "MSE value for Open is: 279817.51\n",
            "RMSE value for Open is: 528.98\n",
            "MAPE value for Open is: 0.53\n",
            "\n",
            "MAE value for High is: 410.83\n",
            "MSE value for High is: 283796.34\n",
            "RMSE value for High is: 532.73\n",
            "MAPE value for High is: 0.53\n",
            "\n",
            "MAE value for Low is: 405.89\n",
            "MSE value for Low is: 276014.31\n",
            "RMSE value for Low is: 525.37\n",
            "MAPE value for Low is: 0.53\n",
            "\n",
            "MAE value for Close is: 408.6\n",
            "MSE value for Close is: 280236.97\n",
            "RMSE value for Close is: 529.37\n",
            "MAPE value for Close is: 0.53\n",
            "\n",
            "MAE value for Adj Close is: 408.6\n",
            "MSE value for Adj Close is: 280236.97\n",
            "RMSE value for Adj Close is: 529.37\n",
            "MAPE value for Adj Close is: 0.53\n",
            "\n",
            "MAE value for Volume is: 11453585.26\n",
            "MSE value for Volume is: 136252496521005.73\n",
            "RMSE value for Volume is: 11672724.47\n",
            "MAPE value for Volume is: 5.47\n",
            "\n"
          ]
        }
      ]
    },
    {
      "cell_type": "code",
      "source": [
        "def create_sequences(data, n_steps):\n",
        "    X, y = [], []\n",
        "    for i in range(len(data) - n_steps):\n",
        "        X.append(data[i:i + n_steps])\n",
        "        y.append(data[i + n_steps])\n",
        "    return np.array(X), np.array(y)"
      ],
      "metadata": {
        "id": "8_gmoLcDspNI"
      },
      "execution_count": null,
      "outputs": []
    },
    {
      "cell_type": "code",
      "source": [
        "def LSTM_forecast(LSTM_data):\n",
        "  scaler = StandardScaler()\n",
        "  scaled_data = scaler.fit_transform(LSTM_data)\n",
        "\n",
        "  train_size = int(len(scaled_data) * 0.8)\n",
        "  train_data = scaled_data[:train_size]\n",
        "  test_data = scaled_data[train_size:]\n",
        "\n",
        "  n_steps = 10\n",
        "\n",
        "  X_train, y_train = create_sequences(train_data, n_steps)\n",
        "  X_test, y_test = create_sequences(test_data, n_steps)\n",
        "\n",
        "\n",
        "  n_features = LSTM_data.shape[1]  \n",
        "  model = Sequential()\n",
        "  model.add(LSTM(units=50, activation='relu', input_shape=(n_steps, n_features)))\n",
        "  model.add(Dense(n_features)) \n",
        "  model.compile(optimizer='adam', loss='mse')\n",
        "\n",
        "  model.fit(X_train, y_train, epochs=10, batch_size=16)\n",
        "\n",
        "  y_pred = model.predict(X_test)\n",
        "\n",
        "  predicted_data = scaler.inverse_transform(y_pred)\n",
        "\n",
        "  predicted_df = pd.DataFrame(predicted_data, columns=LSTM_data.columns)\n",
        "\n",
        "  y_test = scaler.inverse_transform(y_test)\n",
        "\n",
        "  y_test_df =  pd.DataFrame(y_test, columns=LSTM_data.columns)\n",
        "\n",
        "  print('')\n",
        "  print('')\n",
        "  for i in data.columns:\n",
        "    print('MAE value for', i, 'is:', round(np.mean(np.abs(np.asarray(y_test_df[i]) - np.asarray(predicted_df[i]))), 2))\n",
        "    print('MSE value for', i, 'is:', round(mean_squared_error(predicted_df[i], y_test_df[i]), 2))\n",
        "    print('RMSE value for', i, 'is:', round(math.sqrt(mean_squared_error(predicted_df[i], y_test_df[i])), 2))\n",
        "    print('MAPE value for', i, 'is:', round(np.mean(np.abs((np.asarray(y_test_df[i]) - np.asarray(predicted_df[i])) / np.asarray(y_test_df[i]))), 2))\n",
        "    print('')"
      ],
      "metadata": {
        "id": "CqiBNBKVsqk_"
      },
      "execution_count": null,
      "outputs": []
    },
    {
      "cell_type": "code",
      "source": [
        "LSTM_forecast(data)"
      ],
      "metadata": {
        "colab": {
          "base_uri": "https://localhost:8080/"
        },
        "id": "cX5-XFj3swo0",
        "outputId": "d884acae-5d8a-4a3c-c551-a5ccf382ad02"
      },
      "execution_count": null,
      "outputs": [
        {
          "output_type": "stream",
          "name": "stdout",
          "text": [
            "Epoch 1/10\n",
            "195/195 [==============================] - 3s 7ms/step - loss: 0.1095\n",
            "Epoch 2/10\n",
            "195/195 [==============================] - 2s 10ms/step - loss: 0.0616\n",
            "Epoch 3/10\n",
            "195/195 [==============================] - 2s 9ms/step - loss: 0.0595\n",
            "Epoch 4/10\n",
            "195/195 [==============================] - 1s 7ms/step - loss: 0.0580\n",
            "Epoch 5/10\n",
            "195/195 [==============================] - 1s 7ms/step - loss: 0.0572\n",
            "Epoch 6/10\n",
            "195/195 [==============================] - 1s 7ms/step - loss: 0.0565\n",
            "Epoch 7/10\n",
            "195/195 [==============================] - 1s 7ms/step - loss: 0.0557\n",
            "Epoch 8/10\n",
            "195/195 [==============================] - 1s 7ms/step - loss: 0.0551\n",
            "Epoch 9/10\n",
            "195/195 [==============================] - 1s 7ms/step - loss: 0.0553\n",
            "Epoch 10/10\n",
            "195/195 [==============================] - 1s 8ms/step - loss: 0.0551\n",
            "25/25 [==============================] - 0s 4ms/step\n",
            "\n",
            "\n",
            "MAE value for Open is: 73.41\n",
            "MSE value for Open is: 9012.97\n",
            "RMSE value for Open is: 94.94\n",
            "MAPE value for Open is: 0.06\n",
            "\n",
            "MAE value for High is: 41.14\n",
            "MSE value for High is: 3716.92\n",
            "RMSE value for High is: 60.97\n",
            "MAPE value for High is: 0.03\n",
            "\n",
            "MAE value for Low is: 21.76\n",
            "MSE value for Low is: 805.17\n",
            "RMSE value for Low is: 28.38\n",
            "MAPE value for Low is: 0.02\n",
            "\n",
            "MAE value for Close is: 18.96\n",
            "MSE value for Close is: 650.42\n",
            "RMSE value for Close is: 25.5\n",
            "MAPE value for Close is: 0.02\n",
            "\n",
            "MAE value for Adj Close is: 17.06\n",
            "MSE value for Adj Close is: 580.66\n",
            "RMSE value for Adj Close is: 24.1\n",
            "MAPE value for Adj Close is: 0.01\n",
            "\n",
            "MAE value for Volume is: 738487.65\n",
            "MSE value for Volume is: 1209946808823.04\n",
            "RMSE value for Volume is: 1099975.82\n",
            "MAPE value for Volume is: 0.42\n",
            "\n"
          ]
        }
      ]
    },
    {
      "cell_type": "code",
      "source": [
        "LSTM_forecast(do)"
      ],
      "metadata": {
        "colab": {
          "base_uri": "https://localhost:8080/"
        },
        "id": "SgzmqbvSssPf",
        "outputId": "8a3534e3-8911-4ce2-a8b0-2752d0715c66"
      },
      "execution_count": null,
      "outputs": [
        {
          "output_type": "stream",
          "name": "stdout",
          "text": [
            "Epoch 1/10\n",
            "195/195 [==============================] - 4s 8ms/step - loss: 0.1351\n",
            "Epoch 2/10\n",
            "195/195 [==============================] - 1s 7ms/step - loss: 0.0543\n",
            "Epoch 3/10\n",
            "195/195 [==============================] - 1s 7ms/step - loss: 0.0517\n",
            "Epoch 4/10\n",
            "195/195 [==============================] - 1s 7ms/step - loss: 0.0475\n",
            "Epoch 5/10\n",
            "195/195 [==============================] - 1s 7ms/step - loss: 0.0472\n",
            "Epoch 6/10\n",
            "195/195 [==============================] - 1s 7ms/step - loss: 0.0445\n",
            "Epoch 7/10\n",
            "195/195 [==============================] - 2s 8ms/step - loss: 0.0432\n",
            "Epoch 8/10\n",
            "195/195 [==============================] - 2s 10ms/step - loss: 0.0427\n",
            "Epoch 9/10\n",
            "195/195 [==============================] - 2s 8ms/step - loss: 0.0434\n",
            "Epoch 10/10\n",
            "195/195 [==============================] - 1s 7ms/step - loss: 0.0425\n",
            "25/25 [==============================] - 0s 3ms/step\n",
            "\n",
            "\n",
            "MAE value for Open is: 118.76\n",
            "MSE value for Open is: 96400.15\n",
            "RMSE value for Open is: 310.48\n",
            "MAPE value for Open is: 0.1\n",
            "\n",
            "MAE value for High is: 66.11\n",
            "MSE value for High is: 17606.74\n",
            "RMSE value for High is: 132.69\n",
            "MAPE value for High is: 0.05\n",
            "\n",
            "MAE value for Low is: 56.8\n",
            "MSE value for Low is: 8070.93\n",
            "RMSE value for Low is: 89.84\n",
            "MAPE value for Low is: 0.05\n",
            "\n",
            "MAE value for Close is: 103.17\n",
            "MSE value for Close is: 51211.99\n",
            "RMSE value for Close is: 226.3\n",
            "MAPE value for Close is: 0.08\n",
            "\n",
            "MAE value for Adj Close is: 67.23\n",
            "MSE value for Adj Close is: 6590.94\n",
            "RMSE value for Adj Close is: 81.18\n",
            "MAPE value for Adj Close is: 0.06\n",
            "\n",
            "MAE value for Volume is: 867804.47\n",
            "MSE value for Volume is: 2397660236252.58\n",
            "RMSE value for Volume is: 1548438.0\n",
            "MAPE value for Volume is: 0.49\n",
            "\n"
          ]
        }
      ]
    },
    {
      "cell_type": "code",
      "source": [
        "LSTM_forecast(da)"
      ],
      "metadata": {
        "colab": {
          "base_uri": "https://localhost:8080/"
        },
        "id": "MulWXG-Ksts5",
        "outputId": "abbb5d32-e0e6-4181-f712-d34f65009802"
      },
      "execution_count": null,
      "outputs": [
        {
          "output_type": "stream",
          "name": "stdout",
          "text": [
            "Epoch 1/10\n",
            "195/195 [==============================] - 3s 7ms/step - loss: 0.1176\n",
            "Epoch 2/10\n",
            "195/195 [==============================] - 1s 7ms/step - loss: 0.0572\n",
            "Epoch 3/10\n",
            "195/195 [==============================] - 2s 11ms/step - loss: 0.0538\n",
            "Epoch 4/10\n",
            "195/195 [==============================] - 2s 13ms/step - loss: 0.0522\n",
            "Epoch 5/10\n",
            "195/195 [==============================] - 2s 8ms/step - loss: 0.0508\n",
            "Epoch 6/10\n",
            "195/195 [==============================] - 1s 7ms/step - loss: 0.0500\n",
            "Epoch 7/10\n",
            "195/195 [==============================] - 1s 7ms/step - loss: 0.0504\n",
            "Epoch 8/10\n",
            "195/195 [==============================] - 1s 7ms/step - loss: 0.0505\n",
            "Epoch 9/10\n",
            "195/195 [==============================] - 1s 7ms/step - loss: 0.0496\n",
            "Epoch 10/10\n",
            "195/195 [==============================] - 1s 7ms/step - loss: 0.0498\n",
            "25/25 [==============================] - 0s 3ms/step\n",
            "\n",
            "\n",
            "MAE value for Open is: 24.93\n",
            "MSE value for Open is: 1397.64\n",
            "RMSE value for Open is: 37.38\n",
            "MAPE value for Open is: 0.02\n",
            "\n",
            "MAE value for High is: 38.83\n",
            "MSE value for High is: 2173.38\n",
            "RMSE value for High is: 46.62\n",
            "MAPE value for High is: 0.03\n",
            "\n",
            "MAE value for Low is: 63.23\n",
            "MSE value for Low is: 6495.95\n",
            "RMSE value for Low is: 80.6\n",
            "MAPE value for Low is: 0.05\n",
            "\n",
            "MAE value for Close is: 28.87\n",
            "MSE value for Close is: 1400.12\n",
            "RMSE value for Close is: 37.42\n",
            "MAPE value for Close is: 0.02\n",
            "\n",
            "MAE value for Adj Close is: 57.96\n",
            "MSE value for Adj Close is: 4753.2\n",
            "RMSE value for Adj Close is: 68.94\n",
            "MAPE value for Adj Close is: 0.05\n",
            "\n",
            "MAE value for Volume is: 940482.35\n",
            "MSE value for Volume is: 3210385495174.08\n",
            "RMSE value for Volume is: 1791754.86\n",
            "MAPE value for Volume is: 0.57\n",
            "\n"
          ]
        }
      ]
    }
  ],
  "metadata": {
    "kernelspec": {
      "display_name": "Python 3",
      "language": "python",
      "name": "python3"
    },
    "language_info": {
      "codemirror_mode": {
        "name": "ipython",
        "version": 3
      },
      "file_extension": ".py",
      "mimetype": "text/x-python",
      "name": "python",
      "nbconvert_exporter": "python",
      "pygments_lexer": "ipython3",
      "version": "3.8.5"
    },
    "colab": {
      "provenance": []
    },
    "gpuClass": "standard"
  },
  "nbformat": 4,
  "nbformat_minor": 0
}